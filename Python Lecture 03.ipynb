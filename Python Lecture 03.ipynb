{
 "metadata": {
  "name": ""
 },
 "nbformat": 3,
 "nbformat_minor": 0,
 "worksheets": [
  {
   "cells": [
    {
     "cell_type": "markdown",
     "metadata": {},
     "source": [
      "### Defining Functions\n",
      "\n",
      "We've sort of covered this, but I thought it should be a bit more formalized."
     ]
    },
    {
     "cell_type": "code",
     "collapsed": false,
     "input": [
      "\n",
      "def function_name(variable1, variable2, variable3='default value'):\n",
      "    x = 'Sean'\n",
      "    print x\n",
      "    # Do stuff with variables\n",
      "    # return the result often as a tuple if there are multiple values\n",
      "    return (variable1, variable2)\n",
      "x = 'Nick'\n",
      "print x\n",
      "print function_name(1,2)"
     ],
     "language": "python",
     "metadata": {},
     "outputs": [
      {
       "output_type": "stream",
       "stream": "stdout",
       "text": [
        "Nick\n",
        "Sean\n",
        "(1, 2)\n"
       ]
      }
     ],
     "prompt_number": 12
    },
    {
     "cell_type": "markdown",
     "metadata": {},
     "source": [
      "### Generator Functions\n",
      "\n",
      "Really useful when working with large files. Can process line by line without reading in the entire file into memory."
     ]
    },
    {
     "cell_type": "code",
     "collapsed": false,
     "input": [
      "def function_name(big_iterable):\n",
      "    for i in big_iterable:\n",
      "        # do something to i\n",
      "        yield i\n",
      "\n",
      "x = range(0,11)\n",
      "z = function_name(x)\n",
      "print z.next()\n",
      "print z.next()\n",
      "print z.next()\n",
      "print z.next()\n"
     ],
     "language": "python",
     "metadata": {},
     "outputs": [
      {
       "output_type": "stream",
       "stream": "stdout",
       "text": [
        "0\n",
        "1\n",
        "2\n",
        "3\n"
       ]
      }
     ],
     "prompt_number": 21
    },
    {
     "cell_type": "markdown",
     "metadata": {},
     "source": [
      "### List Comprehensions\n",
      "\n",
      "A fast and easy way to apply a function to an iterable. Can also be used to filter iterables."
     ]
    },
    {
     "cell_type": "code",
     "collapsed": false,
     "input": [
      "x = range(0,11)\n",
      "print x\n",
      "print [i + 3 for i in x if i != 4]"
     ],
     "language": "python",
     "metadata": {},
     "outputs": [
      {
       "output_type": "stream",
       "stream": "stdout",
       "text": [
        "[0, 1, 2, 3, 4, 5, 6, 7, 8, 9, 10]\n",
        "[3, 4, 5, 6, 8, 9, 10, 11, 12, 13]\n"
       ]
      }
     ],
     "prompt_number": 24
    },
    {
     "cell_type": "markdown",
     "metadata": {},
     "source": [
      "### Project: Generate a pseudo genome as a fasta file.\n",
      "\n",
      "* Step 1. Randomly select A,T,C,G\n",
      "    * save the results as a string = 'ATCGAGGGGCCTT'\n",
      "* Step 2. Apply a particular GC content.\n",
      "    * create a random string of bases that has a particular GC content\n",
      "* Step 3. Save the output to a properly formated fasta file.\n",
      "    * make the output have a fast format\n",
      "    \n",
      "    <code>\n",
      "    \\> GC content = .34\n",
      "    ATCGAGGGGCCTTATCGAGGGGCCTTATCGAGGGGCCTT\n",
      "    ATCGAGGGGCCTTATCGAGGGGCCTTATCGAGGGGCCTT\n",
      "    ATCGAGGGGCCTTATCGAGGGGCCTTATCGAGGGGCCTT\n",
      "    ATCGAGGGGCCTTATCGAGGGGCCTT\n",
      "    </code>\n",
      "    "
     ]
    },
    {
     "cell_type": "code",
     "collapsed": false,
     "input": [
      "import random"
     ],
     "language": "python",
     "metadata": {},
     "outputs": [],
     "prompt_number": 25
    },
    {
     "cell_type": "code",
     "collapsed": false,
     "input": [
      "random.choice('ACTG')"
     ],
     "language": "python",
     "metadata": {},
     "outputs": [
      {
       "metadata": {},
       "output_type": "pyout",
       "prompt_number": 34,
       "text": [
        "'T'"
       ]
      }
     ],
     "prompt_number": 34
    },
    {
     "cell_type": "code",
     "collapsed": false,
     "input": [
      "len_of_seq = 50\n",
      "seq = ''\n",
      "for base in range(0,50):\n",
      "    seq += random.choice('ACTG')"
     ],
     "language": "python",
     "metadata": {},
     "outputs": [],
     "prompt_number": 35
    },
    {
     "cell_type": "code",
     "collapsed": false,
     "input": [
      "seq"
     ],
     "language": "python",
     "metadata": {},
     "outputs": [
      {
       "metadata": {},
       "output_type": "pyout",
       "prompt_number": 36,
       "text": [
        "'CGTACACTAACTAGAGTTCCGGATCTTAGACGGGACCACCGTATAGTAAT'"
       ]
      }
     ],
     "prompt_number": 36
    },
    {
     "cell_type": "code",
     "collapsed": false,
     "input": [
      "open?"
     ],
     "language": "python",
     "metadata": {},
     "outputs": [],
     "prompt_number": 37
    },
    {
     "cell_type": "code",
     "collapsed": false,
     "input": [
      "fout = open('filename.txt','w')"
     ],
     "language": "python",
     "metadata": {},
     "outputs": [],
     "prompt_number": 39
    },
    {
     "cell_type": "code",
     "collapsed": false,
     "input": [
      "fout.write('blah')\n",
      "fout.close()"
     ],
     "language": "python",
     "metadata": {},
     "outputs": [],
     "prompt_number": 43
    },
    {
     "cell_type": "code",
     "collapsed": false,
     "input": [
      "cat 'filename.txt'"
     ],
     "language": "python",
     "metadata": {},
     "outputs": [
      {
       "output_type": "stream",
       "stream": "stdout",
       "text": [
        "blahblah"
       ]
      }
     ],
     "prompt_number": 45
    },
    {
     "cell_type": "code",
     "collapsed": false,
     "input": [
      "' lkjlkj \\n \\t'\n"
     ],
     "language": "python",
     "metadata": {},
     "outputs": []
    }
   ],
   "metadata": {}
  }
 ]
}