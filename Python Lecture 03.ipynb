{
 "metadata": {
  "name": ""
 },
 "nbformat": 3,
 "nbformat_minor": 0,
 "worksheets": [
  {
   "cells": [
    {
     "cell_type": "markdown",
     "metadata": {},
     "source": [
      "### Defining Functions\n",
      "\n",
      "We've sort of covered this, but I thought it should be a bit more formalized."
     ]
    },
    {
     "cell_type": "code",
     "collapsed": false,
     "input": [
      "def function_name(variable1, variable2, variable3='default value'):\n",
      "    # Do stuff with variables\n",
      "    # return the result often as a tuple if there are multiple values\n",
      "    return variable1"
     ],
     "language": "python",
     "metadata": {},
     "outputs": []
    },
    {
     "cell_type": "markdown",
     "metadata": {},
     "source": [
      "### Generator Functions\n",
      "\n",
      "Really useful when working with large files. Can process line by line without reading in the entire file into memory."
     ]
    },
    {
     "cell_type": "code",
     "collapsed": false,
     "input": [
      "def function_name(big_iterable):\n",
      "    for i in iterable:\n",
      "        # do something to i\n",
      "        yield i"
     ],
     "language": "python",
     "metadata": {},
     "outputs": []
    },
    {
     "cell_type": "markdown",
     "metadata": {},
     "source": [
      "### List Comprehensions\n",
      "\n",
      "A fast and easy way to apply a function to an iterable. Can also be used to filter iterables."
     ]
    },
    {
     "cell_type": "code",
     "collapsed": false,
     "input": [
      "x = range(0,11)\n",
      "#print x\n",
      "#print [i + 3 for i in x]"
     ],
     "language": "python",
     "metadata": {},
     "outputs": [],
     "prompt_number": 7
    },
    {
     "cell_type": "markdown",
     "metadata": {},
     "source": [
      "### Project: Generate a pseudo genome as a fasta file.\n",
      "\n",
      "* Step 1. Randomly select A,T,C,G\n",
      "* Step 2. Apply a particular GC content.\n",
      "* Step 3. Save the output to a properly formated fasta file."
     ]
    },
    {
     "cell_type": "code",
     "collapsed": false,
     "input": [],
     "language": "python",
     "metadata": {},
     "outputs": []
    }
   ],
   "metadata": {}
  }
 ]
}