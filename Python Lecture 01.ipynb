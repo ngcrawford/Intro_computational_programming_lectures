{
 "metadata": {
  "name": ""
 },
 "nbformat": 3,
 "nbformat_minor": 0,
 "worksheets": [
  {
   "cells": [
    {
     "cell_type": "markdown",
     "metadata": {},
     "source": [
      "Lecture is from: \n",
      "http://github.com/jrjohansson/scientific-python-lectures\n",
      "\n",
      "Authored by:\n",
      "J.R. Johansson (robert@riken.jp) http://dml.riken.jp/~rob/"
     ]
    },
    {
     "cell_type": "heading",
     "level": 1,
     "metadata": {},
     "source": [
      "Introduction to Python programming"
     ]
    },
    {
     "cell_type": "heading",
     "level": 2,
     "metadata": {},
     "source": [
      "Python program files"
     ]
    },
    {
     "cell_type": "markdown",
     "metadata": {},
     "source": [
      "* Python code is usually stored in text files with the file ending \".py\":\n",
      "\n",
      "       myprogram.py\n",
      "\n",
      "* Every line in a Python program file is assumed to be a Python statement, or part thereof.\n",
      "    * The only exception is comment lines, which start with the character # (optionally preceded by an arbitrary number of white-space characters, i.e., tabs or spaces). Comment lines are usually ignored by the Python interpreter.\n",
      "\n",
      "* To run our Python program from the command line we use:\n",
      "\n",
      "       $ python myprogram.py\n",
      "\n",
      "* On UNIX systems it is common to define the path to the interpreter on the first line of the program (note that this is a comment line as far as the Python interpreter is concerned):\n",
      "\n",
      "       #!/usr/bin/env python\n",
      "\n",
      "If we do, and if we additionally set the file script to be executable, we can run the program like this:\n",
      "\n",
      "    $ myprogram.py"
     ]
    },
    {
     "cell_type": "heading",
     "level": 3,
     "metadata": {},
     "source": [
      "Character encoding"
     ]
    },
    {
     "cell_type": "markdown",
     "metadata": {},
     "source": [
      "The standard character encoding is ASCII, but we can use any other encoding, for example UTF-8. To specify that UTF-8 is used we include the special line\n",
      "\n",
      "    # -*- coding: UTF-8 -*-\n",
      "\n",
      "at the top of the file."
     ]
    },
    {
     "cell_type": "code",
     "collapsed": false,
     "input": [
      "cat scripts/hello-world-in-swedish.py"
     ],
     "language": "python",
     "metadata": {},
     "outputs": [
      {
       "output_type": "stream",
       "stream": "stdout",
       "text": [
        "cat: scripts/hello-world-in-swedish.py: No such file or directory\r\n"
       ]
      }
     ],
     "prompt_number": 1
    },
    {
     "cell_type": "code",
     "collapsed": false,
     "input": [
      "!python scripts/hello-world-in-swedish.py"
     ],
     "language": "python",
     "metadata": {},
     "outputs": [],
     "prompt_number": 1
    },
    {
     "cell_type": "markdown",
     "metadata": {},
     "source": [
      "Other than these two optional lines in the beginning of a Python code file, no additional code is required for initializing a program."
     ]
    },
    {
     "cell_type": "heading",
     "level": 2,
     "metadata": {},
     "source": [
      "IPython notebooks"
     ]
    },
    {
     "cell_type": "markdown",
     "metadata": {},
     "source": [
      "This file - an IPython notebook - does not follow the standard pattern with Python code in a text file. Instead, an IPython notebook is stored as a file in the JSON format. The advantage is that we can mix formatted text, Python code and code output. It requires the IPython notebook server to run it though, and therefore isn't a stand-alone Python program as described above. Other than that, there is no difference between the Python code that goes into a program file or an IPython notebook."
     ]
    },
    {
     "cell_type": "heading",
     "level": 2,
     "metadata": {},
     "source": [
      "Modules"
     ]
    },
    {
     "cell_type": "markdown",
     "metadata": {},
     "source": [
      "Most of the functionality in Python is provided by modules. The Python Standard Library is a large collection of modules that provides cross-platform implementations of common facilities such as access to the operating system, file I/O, string management, network communication, and much more."
     ]
    },
    {
     "cell_type": "markdown",
     "metadata": {},
     "source": [
      "### References\n",
      "\n",
      "* The Python Language Reference: http://docs.python.org/2/reference/index.html\n",
      "* The Python Standard Library: http://docs.python.org/2/library/"
     ]
    },
    {
     "cell_type": "code",
     "collapsed": false,
     "input": [
      "import math"
     ],
     "language": "python",
     "metadata": {},
     "outputs": [],
     "prompt_number": 4
    },
    {
     "cell_type": "markdown",
     "metadata": {},
     "source": [
      "This includes the whole module and makes it available for use later in the program. For example, we can do:"
     ]
    },
    {
     "cell_type": "code",
     "collapsed": false,
     "input": [
      "import math\n",
      "\n",
      "x = math.cos(2 * math.pi)\n",
      "\n",
      "print x"
     ],
     "language": "python",
     "metadata": {},
     "outputs": [
      {
       "output_type": "stream",
       "stream": "stdout",
       "text": [
        "1.0\n"
       ]
      }
     ],
     "prompt_number": 11
    },
    {
     "cell_type": "markdown",
     "metadata": {},
     "source": [
      "Alternatively, we can chose to import all symbols (functions and variables) in a module to the current namespace (so that we don't need to use the prefix \"math.\" every time we use something from the math module:"
     ]
    },
    {
     "cell_type": "code",
     "collapsed": false,
     "input": [
      "from math import *\n",
      "\n",
      "x = cos(2 * pi)\n",
      "\n",
      "print x"
     ],
     "language": "python",
     "metadata": {},
     "outputs": [
      {
       "output_type": "stream",
       "stream": "stdout",
       "text": [
        "1.0\n"
       ]
      }
     ],
     "prompt_number": 12
    },
    {
     "cell_type": "markdown",
     "metadata": {},
     "source": [
      "This pattern can be very convenient, but in large programs that include many modules it is often a good idea to keep the symbols from each module in their own namespaces, by using the import math pattern. This would elminate potentially confusing problems with name space collisions.\n",
      "\n",
      "As a third alternative, we can chose to import only a few selected symbols from a module by explicitly listing which ones we want to import instead of using the wildcard character *:"
     ]
    },
    {
     "cell_type": "code",
     "collapsed": false,
     "input": [
      "from math import cos, pi\n",
      "\n",
      "x = cos(2 * pi)\n",
      "\n",
      "print x"
     ],
     "language": "python",
     "metadata": {},
     "outputs": [
      {
       "output_type": "stream",
       "stream": "stdout",
       "text": [
        "1.0\n"
       ]
      }
     ],
     "prompt_number": 13
    },
    {
     "cell_type": "markdown",
     "metadata": {},
     "source": [
      "### Looking at what a module contains, and its documentation\n",
      "\n",
      "Once a module is imported, we can list the symbols it provides using the dir function:"
     ]
    },
    {
     "cell_type": "code",
     "collapsed": false,
     "input": [
      "import math\n",
      "\n",
      "math"
     ],
     "language": "python",
     "metadata": {},
     "outputs": [],
     "prompt_number": 15
    },
    {
     "cell_type": "markdown",
     "metadata": {},
     "source": [
      "And using the function help we can get a description of each function (almost .. not all functions have docstrings, as they are technically called, but the vast majority of functions are documented this way)."
     ]
    },
    {
     "cell_type": "code",
     "collapsed": false,
     "input": [
      "help(math.log)"
     ],
     "language": "python",
     "metadata": {},
     "outputs": [
      {
       "output_type": "stream",
       "stream": "stdout",
       "text": [
        "Help on built-in function log in module math:\n",
        "\n",
        "log(...)\n",
        "    log(x[, base])\n",
        "    \n",
        "    Return the logarithm of x to the given base.\n",
        "    If the base not specified, returns the natural logarithm (base e) of x.\n",
        "\n"
       ]
      }
     ],
     "prompt_number": 20
    },
    {
     "cell_type": "code",
     "collapsed": false,
     "input": [
      "log(10)"
     ],
     "language": "python",
     "metadata": {},
     "outputs": [
      {
       "metadata": {},
       "output_type": "pyout",
       "prompt_number": 21,
       "text": [
        "2.302585092994046"
       ]
      }
     ],
     "prompt_number": 21
    },
    {
     "cell_type": "code",
     "collapsed": false,
     "input": [
      "log(10,2)"
     ],
     "language": "python",
     "metadata": {},
     "outputs": [
      {
       "metadata": {},
       "output_type": "pyout",
       "prompt_number": 22,
       "text": [
        "3.3219280948873626"
       ]
      }
     ],
     "prompt_number": 22
    },
    {
     "cell_type": "markdown",
     "metadata": {},
     "source": [
      "We can also use the help function directly on modules: Try\n",
      "\n",
      "    help(math) \n",
      "\n",
      "Some very useful modules form the Python standard library are os, sys, math, shutil, re, subprocess, multiprocessing, threading.\n",
      "\n",
      "A complete lists of standard modules for Python 2 and Python 3 are available at http://docs.python.org/2/library/ and http://docs.python.org/3/library/, respectively."
     ]
    },
    {
     "cell_type": "heading",
     "level": 2,
     "metadata": {},
     "source": [
      "Variables and types"
     ]
    },
    {
     "cell_type": "markdown",
     "metadata": {},
     "source": [
      "### Symbol names\n",
      "\n",
      "Variable names in Python can contain alphanumerical characters a-z, A-Z, 0-9 and some special characters such as \\_. Normal variable names must start with a letter.\n",
      "\n",
      "By convension, variable names start with a lower-case letter, and Class names start with a capital letter.\n",
      "\n",
      "In addition, there are a number of Python keywords that cannot be used as variable names. These keywords are:\n",
      "\n",
      "    and, as, assert, break, class, continue, def, del, elif, else, except, exec, finally, for, from, global, if, import, in, is, lambda, not, or, pass, print, raise, return, try, while, with, yield\n",
      "\n",
      "Note: Be aware of the keyword lambda, which could easily be a natural variable name in a scientific program. But being a keyword, it cannot be used as a variable name."
     ]
    },
    {
     "cell_type": "markdown",
     "metadata": {},
     "source": [
      "### Assignment\n",
      "\n",
      "The assignment operator in Python is =. Python is a dynamically typed language, so we do not need to specify the type of a variable when we create one.\n",
      "\n",
      "Assigning a value to a new variable creates the variable:"
     ]
    },
    {
     "cell_type": "code",
     "collapsed": false,
     "input": [
      "# variable assignments\n",
      "x = 1.0\n",
      "my_variable = 12.2"
     ],
     "language": "python",
     "metadata": {},
     "outputs": [
      {
       "output_type": "stream",
       "stream": "stdout",
       "text": [
        "12.2\n"
       ]
      }
     ],
     "prompt_number": 27
    },
    {
     "cell_type": "markdown",
     "metadata": {},
     "source": [
      "Although not explicitly specified, a variable do have a type associated with it. The type is derived form the value it was assigned."
     ]
    },
    {
     "cell_type": "code",
     "collapsed": false,
     "input": [
      "x = 1.0\n",
      "type(x)"
     ],
     "language": "python",
     "metadata": {},
     "outputs": [
      {
       "metadata": {},
       "output_type": "pyout",
       "prompt_number": 31,
       "text": [
        "float"
       ]
      }
     ],
     "prompt_number": 31
    },
    {
     "cell_type": "markdown",
     "metadata": {},
     "source": [
      "If we assign a new value to a variable, its type can change."
     ]
    },
    {
     "cell_type": "code",
     "collapsed": false,
     "input": [
      "x = 1"
     ],
     "language": "python",
     "metadata": {},
     "outputs": [],
     "prompt_number": 32
    },
    {
     "cell_type": "code",
     "collapsed": false,
     "input": [
      "type(x)"
     ],
     "language": "python",
     "metadata": {},
     "outputs": [
      {
       "metadata": {},
       "output_type": "pyout",
       "prompt_number": 33,
       "text": [
        "int"
       ]
      }
     ],
     "prompt_number": 33
    },
    {
     "cell_type": "markdown",
     "metadata": {},
     "source": [
      "If we try to use a variable that has not yet been defined we get an NameError:"
     ]
    },
    {
     "cell_type": "code",
     "collapsed": false,
     "input": [
      "print y"
     ],
     "language": "python",
     "metadata": {},
     "outputs": [
      {
       "ename": "NameError",
       "evalue": "name 'y' is not defined",
       "output_type": "pyerr",
       "traceback": [
        "\u001b[0;31m---------------------------------------------------------------------------\u001b[0m\n\u001b[0;31mNameError\u001b[0m                                 Traceback (most recent call last)",
        "\u001b[0;32m<ipython-input-34-d7b495266d53>\u001b[0m in \u001b[0;36m<module>\u001b[0;34m()\u001b[0m\n\u001b[0;32m----> 1\u001b[0;31m \u001b[0;32mprint\u001b[0m \u001b[0my\u001b[0m\u001b[0;34m\u001b[0m\u001b[0m\n\u001b[0m",
        "\u001b[0;31mNameError\u001b[0m: name 'y' is not defined"
       ]
      }
     ],
     "prompt_number": 34
    },
    {
     "cell_type": "heading",
     "level": 3,
     "metadata": {},
     "source": [
      "Fundamental types"
     ]
    },
    {
     "cell_type": "code",
     "collapsed": false,
     "input": [
      "# integers\n",
      "x = 1\n",
      "type(x)"
     ],
     "language": "python",
     "metadata": {},
     "outputs": [
      {
       "metadata": {},
       "output_type": "pyout",
       "prompt_number": 10,
       "text": [
        "int"
       ]
      }
     ],
     "prompt_number": 10
    },
    {
     "cell_type": "code",
     "collapsed": false,
     "input": [
      "# float\n",
      "x = 1.0\n",
      "type(x)"
     ],
     "language": "python",
     "metadata": {},
     "outputs": [
      {
       "metadata": {},
       "output_type": "pyout",
       "prompt_number": 11,
       "text": [
        "float"
       ]
      }
     ],
     "prompt_number": 11
    },
    {
     "cell_type": "code",
     "collapsed": false,
     "input": [
      "# complex numbers: note the use of `j` to specify the imaginary part\n",
      "x = 1.0 - 1.0j\n",
      "type(x)"
     ],
     "language": "python",
     "metadata": {},
     "outputs": [
      {
       "metadata": {},
       "output_type": "pyout",
       "prompt_number": 12,
       "text": [
        "complex"
       ]
      }
     ],
     "prompt_number": 12
    },
    {
     "cell_type": "code",
     "collapsed": false,
     "input": [
      "print x.real, x.imag"
     ],
     "language": "python",
     "metadata": {},
     "outputs": [
      {
       "output_type": "stream",
       "stream": "stdout",
       "text": [
        "1 0\n"
       ]
      }
     ],
     "prompt_number": 35
    },
    {
     "cell_type": "markdown",
     "metadata": {},
     "source": [
      "### Type utility functions\n",
      "\n",
      "The module types contains a number of type name definitions that can be used to test if variables are of certain types:"
     ]
    },
    {
     "cell_type": "code",
     "collapsed": false,
     "input": [
      "import types\n",
      "\n",
      "# print all types defined in the `types` module\n",
      "print dir(types)"
     ],
     "language": "python",
     "metadata": {},
     "outputs": [
      {
       "output_type": "stream",
       "stream": "stdout",
       "text": [
        "['BooleanType', 'BufferType', 'BuiltinFunctionType', 'BuiltinMethodType', 'ClassType', 'CodeType', 'ComplexType', 'DictProxyType', 'DictType', 'DictionaryType', 'EllipsisType', 'FileType', 'FloatType', 'FrameType', 'FunctionType', 'GeneratorType', 'GetSetDescriptorType', 'InstanceType', 'IntType', 'LambdaType', 'ListType', 'LongType', 'MemberDescriptorType', 'MethodType', 'ModuleType', 'NoneType', 'NotImplementedType', 'ObjectType', 'SliceType', 'StringType', 'StringTypes', 'TracebackType', 'TupleType', 'TypeType', 'UnboundMethodType', 'UnicodeType', 'XRangeType', '__builtins__', '__doc__', '__file__', '__name__', '__package__']\n"
       ]
      }
     ],
     "prompt_number": 36
    },
    {
     "cell_type": "code",
     "collapsed": false,
     "input": [
      "x = 1.0\n",
      "\n",
      "# check if the variable x is a float\n",
      "type(x) is float"
     ],
     "language": "python",
     "metadata": {},
     "outputs": []
    },
    {
     "cell_type": "code",
     "collapsed": false,
     "input": [
      "# check if the variable x is an int\n",
      "type(x) is int"
     ],
     "language": "python",
     "metadata": {},
     "outputs": []
    },
    {
     "cell_type": "markdown",
     "metadata": {},
     "source": [
      "We can also use the isinstance method for testing types of variables:"
     ]
    },
    {
     "cell_type": "code",
     "collapsed": false,
     "input": [
      "isinstance(x, float)"
     ],
     "language": "python",
     "metadata": {},
     "outputs": [
      {
       "metadata": {},
       "output_type": "pyout",
       "prompt_number": 14,
       "text": [
        "False"
       ]
      }
     ],
     "prompt_number": 14
    },
    {
     "cell_type": "heading",
     "level": 3,
     "metadata": {},
     "source": [
      "Type casting"
     ]
    },
    {
     "cell_type": "code",
     "collapsed": false,
     "input": [
      "x = 1.5\n",
      "\n",
      "print x, type(x)"
     ],
     "language": "python",
     "metadata": {},
     "outputs": [
      {
       "output_type": "stream",
       "stream": "stdout",
       "text": [
        "1.5 <type 'float'>\n"
       ]
      }
     ],
     "prompt_number": 37
    },
    {
     "cell_type": "code",
     "collapsed": false,
     "input": [
      "x = int(x)\n",
      "\n",
      "print x, type(x)"
     ],
     "language": "python",
     "metadata": {},
     "outputs": [
      {
       "output_type": "stream",
       "stream": "stdout",
       "text": [
        "1 <type 'int'>\n"
       ]
      }
     ],
     "prompt_number": 38
    },
    {
     "cell_type": "code",
     "collapsed": false,
     "input": [
      "z = complex(x)\n",
      "\n",
      "print z, type(z)"
     ],
     "language": "python",
     "metadata": {},
     "outputs": [
      {
       "output_type": "stream",
       "stream": "stdout",
       "text": [
        "(1+0j) <type 'complex'>\n"
       ]
      }
     ],
     "prompt_number": 39
    },
    {
     "cell_type": "code",
     "collapsed": false,
     "input": [
      "x = float(z)"
     ],
     "language": "python",
     "metadata": {},
     "outputs": [
      {
       "ename": "TypeError",
       "evalue": "can't convert complex to float",
       "output_type": "pyerr",
       "traceback": [
        "\u001b[0;31m---------------------------------------------------------------------------\u001b[0m\n\u001b[0;31mTypeError\u001b[0m                                 Traceback (most recent call last)",
        "\u001b[0;32m<ipython-input-40-e719cc7b3e96>\u001b[0m in \u001b[0;36m<module>\u001b[0;34m()\u001b[0m\n\u001b[0;32m----> 1\u001b[0;31m \u001b[0mx\u001b[0m \u001b[0;34m=\u001b[0m \u001b[0mfloat\u001b[0m\u001b[0;34m(\u001b[0m\u001b[0mz\u001b[0m\u001b[0;34m)\u001b[0m\u001b[0;34m\u001b[0m\u001b[0m\n\u001b[0m",
        "\u001b[0;31mTypeError\u001b[0m: can't convert complex to float"
       ]
      }
     ],
     "prompt_number": 40
    },
    {
     "cell_type": "markdown",
     "metadata": {},
     "source": [
      "Complex variables cannot be cast to floats or integers. We need to use z.real or z.imag to extract the part of the complex number we want:"
     ]
    },
    {
     "cell_type": "code",
     "collapsed": false,
     "input": [
      "y = bool(z.real)\n",
      "\n",
      "print z.real, \" -> \", y, type(y)\n",
      "\n",
      "y = bool(z.imag)\n",
      "\n",
      "print z.imag, \" -> \", y, type(y)"
     ],
     "language": "python",
     "metadata": {},
     "outputs": [
      {
       "output_type": "stream",
       "stream": "stdout",
       "text": [
        "1.0  ->  True <type 'bool'>\n",
        "0.0  ->  False <type 'bool'>\n"
       ]
      }
     ],
     "prompt_number": 41
    },
    {
     "cell_type": "markdown",
     "metadata": {},
     "source": [
      "## Operators and comparisons\n",
      "\n",
      "Most operators and comparisons in Python work as one would expect:\n",
      "\n",
      "* Arithmetic operators +, -, *, /, // (integer division), '**' power\n"
     ]
    },
    {
     "cell_type": "code",
     "collapsed": false,
     "input": [
      "1 + 2, 1 - 2, 1 * 2, 1.0 / 2.0"
     ],
     "language": "python",
     "metadata": {},
     "outputs": [
      {
       "metadata": {},
       "output_type": "pyout",
       "prompt_number": 44,
       "text": [
        "(3, -1, 2, 0.5)"
       ]
      }
     ],
     "prompt_number": 44
    },
    {
     "cell_type": "code",
     "collapsed": false,
     "input": [
      "1.0 + 2.0, 1.0 - 2.0, 1.0 * 2.0, 1.0 / 2.0"
     ],
     "language": "python",
     "metadata": {},
     "outputs": [
      {
       "metadata": {},
       "output_type": "pyout",
       "prompt_number": 45,
       "text": [
        "(3.0, -1.0, 2.0, 0.5)"
       ]
      }
     ],
     "prompt_number": 45
    },
    {
     "cell_type": "code",
     "collapsed": false,
     "input": [
      "1 / 2"
     ],
     "language": "python",
     "metadata": {},
     "outputs": [
      {
       "metadata": {},
       "output_type": "pyout",
       "prompt_number": 46,
       "text": [
        "0"
       ]
      }
     ],
     "prompt_number": 46
    },
    {
     "cell_type": "code",
     "collapsed": false,
     "input": [
      "1.0 / 2.0"
     ],
     "language": "python",
     "metadata": {},
     "outputs": [
      {
       "metadata": {},
       "output_type": "pyout",
       "prompt_number": 47,
       "text": [
        "0.5"
       ]
      }
     ],
     "prompt_number": 47
    },
    {
     "cell_type": "code",
     "collapsed": false,
     "input": [
      "# Integer division of float numbers\n",
      "3.0 // 2.0"
     ],
     "language": "python",
     "metadata": {},
     "outputs": [
      {
       "metadata": {},
       "output_type": "pyout",
       "prompt_number": 48,
       "text": [
        "1.0"
       ]
      }
     ],
     "prompt_number": 48
    },
    {
     "cell_type": "code",
     "collapsed": false,
     "input": [
      "5.0 % 3.0"
     ],
     "language": "python",
     "metadata": {},
     "outputs": [
      {
       "metadata": {},
       "output_type": "pyout",
       "prompt_number": 52,
       "text": [
        "2.0"
       ]
      }
     ],
     "prompt_number": 52
    },
    {
     "cell_type": "code",
     "collapsed": false,
     "input": [
      "# Note! The power operators in python isn't ^, but **\n",
      "print 2 ** 2\n",
      "print pow(2, 2)"
     ],
     "language": "python",
     "metadata": {},
     "outputs": [
      {
       "output_type": "stream",
       "stream": "stdout",
       "text": [
        "4\n",
        "4.0\n"
       ]
      }
     ],
     "prompt_number": 55
    },
    {
     "cell_type": "markdown",
     "metadata": {},
     "source": [
      "The boolean operators are spelled out as words and, not, or."
     ]
    },
    {
     "cell_type": "code",
     "collapsed": false,
     "input": [
      "True and True"
     ],
     "language": "python",
     "metadata": {},
     "outputs": [
      {
       "metadata": {},
       "output_type": "pyout",
       "prompt_number": 60,
       "text": [
        "1"
       ]
      }
     ],
     "prompt_number": 60
    },
    {
     "cell_type": "code",
     "collapsed": false,
     "input": [
      "not False"
     ],
     "language": "python",
     "metadata": {},
     "outputs": [
      {
       "metadata": {},
       "output_type": "pyout",
       "prompt_number": 58,
       "text": [
        "True"
       ]
      }
     ],
     "prompt_number": 58
    },
    {
     "cell_type": "code",
     "collapsed": false,
     "input": [
      "True or False"
     ],
     "language": "python",
     "metadata": {},
     "outputs": [
      {
       "metadata": {},
       "output_type": "pyout",
       "prompt_number": 59,
       "text": [
        "True"
       ]
      }
     ],
     "prompt_number": 59
    },
    {
     "cell_type": "markdown",
     "metadata": {},
     "source": [
      "Comparison operators >, <, >= (greater or equal), <= (less or equal), == equality, is identical."
     ]
    },
    {
     "cell_type": "code",
     "collapsed": false,
     "input": [
      "2 > 1, 2 < 1"
     ],
     "language": "python",
     "metadata": {},
     "outputs": [
      {
       "metadata": {},
       "output_type": "pyout",
       "prompt_number": 62,
       "text": [
        "True"
       ]
      }
     ],
     "prompt_number": 62
    },
    {
     "cell_type": "code",
     "collapsed": false,
     "input": [
      "2 > 2, 2 < 2"
     ],
     "language": "python",
     "metadata": {},
     "outputs": []
    },
    {
     "cell_type": "code",
     "collapsed": false,
     "input": [
      "2 >= 2, 2 <= 2"
     ],
     "language": "python",
     "metadata": {},
     "outputs": []
    },
    {
     "cell_type": "code",
     "collapsed": false,
     "input": [
      "# equality\n",
      "[1,2] == [1,2]\n",
      "[1,2] is [1,2]\n"
     ],
     "language": "python",
     "metadata": {},
     "outputs": [
      {
       "metadata": {},
       "output_type": "pyout",
       "prompt_number": 73,
       "text": [
        "False"
       ]
      }
     ],
     "prompt_number": 73
    },
    {
     "cell_type": "code",
     "collapsed": false,
     "input": [
      "# objects identical?\n",
      "l2 = [1,2]\n",
      "l1 = l2\n",
      "\n",
      "l1.append(2)\n",
      "\n",
      "l1 is l2"
     ],
     "language": "python",
     "metadata": {},
     "outputs": [
      {
       "metadata": {},
       "output_type": "pyout",
       "prompt_number": 79,
       "text": [
        "True"
       ]
      }
     ],
     "prompt_number": 79
    },
    {
     "cell_type": "heading",
     "level": 2,
     "metadata": {},
     "source": [
      "Compound types: Strings, List and dictionaries"
     ]
    },
    {
     "cell_type": "markdown",
     "metadata": {},
     "source": [
      "###Strings\n",
      "\n",
      "Strings are the variable type that is used for storing text messages."
     ]
    },
    {
     "cell_type": "code",
     "collapsed": false,
     "input": [
      "s = \"Hello world\"\n",
      "type(s)"
     ],
     "language": "python",
     "metadata": {},
     "outputs": [
      {
       "metadata": {},
       "output_type": "pyout",
       "prompt_number": 80,
       "text": [
        "str"
       ]
      }
     ],
     "prompt_number": 80
    },
    {
     "cell_type": "code",
     "collapsed": false,
     "input": [
      "# length of the string: the number of characters\n",
      "len(s)"
     ],
     "language": "python",
     "metadata": {},
     "outputs": [
      {
       "metadata": {},
       "output_type": "pyout",
       "prompt_number": 81,
       "text": [
        "11"
       ]
      }
     ],
     "prompt_number": 81
    },
    {
     "cell_type": "code",
     "collapsed": false,
     "input": [
      "# replace a substring in a string with somethign else\n",
      "s2 = s.replace(\"world\", \"test\")\n",
      "print(s2)"
     ],
     "language": "python",
     "metadata": {},
     "outputs": [
      {
       "output_type": "stream",
       "stream": "stdout",
       "text": [
        "Hello test\n"
       ]
      }
     ],
     "prompt_number": 82
    },
    {
     "cell_type": "code",
     "collapsed": false,
     "input": [],
     "language": "python",
     "metadata": {},
     "outputs": [],
     "prompt_number": 85
    },
    {
     "cell_type": "markdown",
     "metadata": {},
     "source": [
      "We can index a character in a string using []:"
     ]
    },
    {
     "cell_type": "code",
     "collapsed": false,
     "input": [
      "s[0]"
     ],
     "language": "python",
     "metadata": {},
     "outputs": [
      {
       "metadata": {},
       "output_type": "pyout",
       "prompt_number": 86,
       "text": [
        "'H'"
       ]
      }
     ],
     "prompt_number": 86
    },
    {
     "cell_type": "markdown",
     "metadata": {},
     "source": [
      "** Heads up MATLAB users:** Indexing start at 0!\n",
      "\n",
      "We can extract a part of a string using the syntax <code>[start:stop]</code>, which extracts characters between index start and stop:"
     ]
    },
    {
     "cell_type": "code",
     "collapsed": false,
     "input": [
      "s[0:5]"
     ],
     "language": "python",
     "metadata": {},
     "outputs": [
      {
       "metadata": {},
       "output_type": "pyout",
       "prompt_number": 87,
       "text": [
        "'Hello'"
       ]
      }
     ],
     "prompt_number": 87
    },
    {
     "cell_type": "markdown",
     "metadata": {},
     "source": [
      "If we omit either (or both) of start or stop from [start:stop], the default is the beginning and the end of the string, respectively:"
     ]
    },
    {
     "cell_type": "code",
     "collapsed": false,
     "input": [
      "s[:5]"
     ],
     "language": "python",
     "metadata": {},
     "outputs": [
      {
       "metadata": {},
       "output_type": "pyout",
       "prompt_number": 88,
       "text": [
        "'Hello'"
       ]
      }
     ],
     "prompt_number": 88
    },
    {
     "cell_type": "code",
     "collapsed": false,
     "input": [
      "s[6:]"
     ],
     "language": "python",
     "metadata": {},
     "outputs": [
      {
       "metadata": {},
       "output_type": "pyout",
       "prompt_number": 89,
       "text": [
        "'world'"
       ]
      }
     ],
     "prompt_number": 89
    },
    {
     "cell_type": "code",
     "collapsed": false,
     "input": [
      "s[:]"
     ],
     "language": "python",
     "metadata": {},
     "outputs": [
      {
       "metadata": {},
       "output_type": "pyout",
       "prompt_number": 90,
       "text": [
        "'Hello world'"
       ]
      }
     ],
     "prompt_number": 90
    },
    {
     "cell_type": "code",
     "collapsed": false,
     "input": [
      "We can also define the step size using the syntax [start:end:step] (the default value for step is 1, as we saw above):"
     ],
     "language": "python",
     "metadata": {},
     "outputs": []
    },
    {
     "cell_type": "code",
     "collapsed": false,
     "input": [
      "s[::1]"
     ],
     "language": "python",
     "metadata": {},
     "outputs": [
      {
       "metadata": {},
       "output_type": "pyout",
       "prompt_number": 91,
       "text": [
        "'Hello world'"
       ]
      }
     ],
     "prompt_number": 91
    },
    {
     "cell_type": "code",
     "collapsed": false,
     "input": [
      "s[-3:]"
     ],
     "language": "python",
     "metadata": {},
     "outputs": [
      {
       "metadata": {},
       "output_type": "pyout",
       "prompt_number": 99,
       "text": [
        "'rld'"
       ]
      }
     ],
     "prompt_number": 99
    },
    {
     "cell_type": "markdown",
     "metadata": {},
     "source": [
      "This technique is called slicing. Read more about the syntax here: http://docs.python.org/release/2.7.3/library/functions.html?highlight=slice#slice\n",
      "\n",
      "Python has a very rich set of functions for text processing. See for example http://docs.python.org/2/library/string.html for more information."
     ]
    },
    {
     "cell_type": "heading",
     "level": 3,
     "metadata": {},
     "source": [
      "String formatting examples"
     ]
    },
    {
     "cell_type": "code",
     "collapsed": false,
     "input": [
      "# The print statement concatenates strings with a space\n",
      "print \"str1\", \"str2\", \"str3\""
     ],
     "language": "python",
     "metadata": {},
     "outputs": [
      {
       "output_type": "stream",
       "stream": "stdout",
       "text": [
        "str1 str2 str3\n"
       ]
      }
     ],
     "prompt_number": 97
    },
    {
     "cell_type": "code",
     "collapsed": false,
     "input": [
      "# The print statements converts all arguments to strings\n",
      "print \"str1\", 1.0, False, -1j  "
     ],
     "language": "python",
     "metadata": {},
     "outputs": [
      {
       "output_type": "stream",
       "stream": "stdout",
       "text": [
        "str1 1.0 False -1j\n"
       ]
      }
     ],
     "prompt_number": 98
    },
    {
     "cell_type": "code",
     "collapsed": false,
     "input": [
      "# strings added with + are concatenated without space\n",
      "print \"str1\" + \"str2\" + \"str3\""
     ],
     "language": "python",
     "metadata": {},
     "outputs": [
      {
       "output_type": "stream",
       "stream": "stdout",
       "text": [
        "str1str21.0\n"
       ]
      }
     ],
     "prompt_number": 102
    },
    {
     "cell_type": "code",
     "collapsed": false,
     "input": [
      "# we can use C-style string formatting\n",
      "print \"value = %d\" % 1.0"
     ],
     "language": "python",
     "metadata": {},
     "outputs": [
      {
       "output_type": "stream",
       "stream": "stdout",
       "text": [
        "value = 1\n"
       ]
      }
     ],
     "prompt_number": 107
    },
    {
     "cell_type": "code",
     "collapsed": false,
     "input": [
      "# this formatting creates a string\n",
      "s2 = \"value1 = %.2f. value2 = %d\" % (3.1415, 1.5)\n",
      "\n",
      "print s2 "
     ],
     "language": "python",
     "metadata": {},
     "outputs": [
      {
       "output_type": "stream",
       "stream": "stdout",
       "text": [
        "value1 = 3.14. value2 = 1\n"
       ]
      }
     ],
     "prompt_number": 108
    },
    {
     "cell_type": "code",
     "collapsed": false,
     "input": [
      "s2 = \"value1 = {0} value2 = {1}\".format(3.1415, 1.5)\n",
      "\n",
      "print s2 "
     ],
     "language": "python",
     "metadata": {},
     "outputs": [
      {
       "output_type": "stream",
       "stream": "stdout",
       "text": [
        "value1 = 3.1415 value2 = 1.5\n"
       ]
      }
     ],
     "prompt_number": 117
    },
    {
     "cell_type": "code",
     "collapsed": false,
     "input": [
      "# alternative, more intuitive way of formatting a string \n",
      "s3 = 'value1 = {0}, value2 = {1}'.format(3.1415, 1.5)\n",
      "\n",
      "print s3"
     ],
     "language": "python",
     "metadata": {},
     "outputs": [
      {
       "output_type": "stream",
       "stream": "stdout",
       "text": [
        "value1 = 3.1415, value2 = 1.5\n"
       ]
      }
     ],
     "prompt_number": 114
    },
    {
     "cell_type": "markdown",
     "metadata": {},
     "source": [
      "###List\n",
      "\n",
      "Lists are very similar to strings, except that each element can be of any type.\n",
      "\n",
      "The syntax for creating lists in Python is <code>[...]</code> ."
     ]
    },
    {
     "cell_type": "code",
     "collapsed": false,
     "input": [
      "l = [1,2,3,4]\n",
      "\n",
      "print type(l)\n",
      "print l"
     ],
     "language": "python",
     "metadata": {},
     "outputs": [
      {
       "output_type": "stream",
       "stream": "stdout",
       "text": [
        "<type 'list'>\n",
        "[1, 2, 3, 4]\n"
       ]
      }
     ],
     "prompt_number": 118
    },
    {
     "cell_type": "markdown",
     "metadata": {},
     "source": [
      "We can use the same slicing techniques to manipulate lists as we could use on strings:"
     ]
    },
    {
     "cell_type": "code",
     "collapsed": false,
     "input": [
      "print l\n",
      "\n",
      "print l[1:3]\n",
      "\n",
      "print l[::-1]"
     ],
     "language": "python",
     "metadata": {},
     "outputs": [
      {
       "output_type": "stream",
       "stream": "stdout",
       "text": [
        "[1, 2, 3, 4]\n",
        "[2, 3]\n",
        "[4, 3, 2, 1]\n"
       ]
      }
     ],
     "prompt_number": 120
    },
    {
     "cell_type": "markdown",
     "metadata": {},
     "source": [
      "**Heads up MATLAB and R users:** Indexing starts at 0!"
     ]
    },
    {
     "cell_type": "code",
     "collapsed": false,
     "input": [
      "l[0]"
     ],
     "language": "python",
     "metadata": {},
     "outputs": [
      {
       "metadata": {},
       "output_type": "pyout",
       "prompt_number": 121,
       "text": [
        "1"
       ]
      }
     ],
     "prompt_number": 121
    },
    {
     "cell_type": "markdown",
     "metadata": {},
     "source": [
      "Elements in a list do not all have to be of the same type:"
     ]
    },
    {
     "cell_type": "code",
     "collapsed": false,
     "input": [
      "l = [1, 'a', 1.0, 1-1j]\n",
      "\n",
      "print l"
     ],
     "language": "python",
     "metadata": {},
     "outputs": [
      {
       "output_type": "stream",
       "stream": "stdout",
       "text": [
        "[1, 'a', 1.0, (1-1j)]\n"
       ]
      }
     ],
     "prompt_number": 122
    },
    {
     "cell_type": "markdown",
     "metadata": {},
     "source": [
      "Python lists can be inhomogeneous and arbitrarily nested:"
     ]
    },
    {
     "cell_type": "code",
     "collapsed": false,
     "input": [
      "nested_list = [1, [2, [3, [4, [5]]]]]\n",
      "\n",
      "nested_list[0]"
     ],
     "language": "python",
     "metadata": {},
     "outputs": [
      {
       "metadata": {},
       "output_type": "pyout",
       "prompt_number": 124,
       "text": [
        "1"
       ]
      }
     ],
     "prompt_number": 124
    },
    {
     "cell_type": "markdown",
     "metadata": {},
     "source": [
      "Lists play a very important role in Python, and are for example used in loops and other flow control structures (discussed below). There are number of convenient functions for generating lists of various types, for example the range function:"
     ]
    },
    {
     "cell_type": "code",
     "collapsed": false,
     "input": [
      "start = 10\n",
      "stop = 30\n",
      "step = 2\n",
      "\n",
      "range(start, stop, step)"
     ],
     "language": "python",
     "metadata": {},
     "outputs": [
      {
       "metadata": {},
       "output_type": "pyout",
       "prompt_number": 125,
       "text": [
        "[10, 12, 14, 16, 18, 20, 22, 24, 26, 28]"
       ]
      }
     ],
     "prompt_number": 125
    },
    {
     "cell_type": "code",
     "collapsed": false,
     "input": [
      "range(-10, 10)"
     ],
     "language": "python",
     "metadata": {},
     "outputs": [
      {
       "metadata": {},
       "output_type": "pyout",
       "prompt_number": 126,
       "text": [
        "[-10, -9, -8, -7, -6, -5, -4, -3, -2, -1, 0, 1, 2, 3, 4, 5, 6, 7, 8, 9]"
       ]
      }
     ],
     "prompt_number": 126
    },
    {
     "cell_type": "code",
     "collapsed": false,
     "input": [
      "s"
     ],
     "language": "python",
     "metadata": {},
     "outputs": [
      {
       "metadata": {},
       "output_type": "pyout",
       "prompt_number": 127,
       "text": [
        "'Hello world'"
       ]
      }
     ],
     "prompt_number": 127
    },
    {
     "cell_type": "code",
     "collapsed": false,
     "input": [
      "# convert a string to a list by type casting:\n",
      "\n",
      "s2 = list(s)\n",
      "\n",
      "s2"
     ],
     "language": "python",
     "metadata": {},
     "outputs": [
      {
       "metadata": {},
       "output_type": "pyout",
       "prompt_number": 128,
       "text": [
        "['H', 'e', 'l', 'l', 'o', ' ', 'w', 'o', 'r', 'l', 'd']"
       ]
      }
     ],
     "prompt_number": 128
    },
    {
     "cell_type": "code",
     "collapsed": false,
     "input": [
      "# sorting lists\n",
      "s2.sort()\n",
      "\n",
      "print(s2)"
     ],
     "language": "python",
     "metadata": {},
     "outputs": [
      {
       "output_type": "stream",
       "stream": "stdout",
       "text": [
        "[' ' 'H' 'd' 'e' 'l' 'l' 'l' 'o' 'o' 'r' 'w']\n",
        "[' ', 'H', 'd', 'e', 'l', 'l', 'l', 'o', 'o', 'r', 'w']\n"
       ]
      }
     ],
     "prompt_number": 131
    },
    {
     "cell_type": "heading",
     "level": 4,
     "metadata": {},
     "source": [
      "Adding, inserting, modifying, and removing elements from lists"
     ]
    },
    {
     "cell_type": "code",
     "collapsed": false,
     "input": [
      "# create a new empty list\n",
      "l = []\n",
      "\n",
      "# add an elements using `append`\n",
      "l.append(\"A\")\n",
      "print l\n",
      "l.append(\"d\")\n",
      "print l\n",
      "l.append(\"d\")\n",
      "\n",
      "print l"
     ],
     "language": "python",
     "metadata": {},
     "outputs": [
      {
       "output_type": "stream",
       "stream": "stdout",
       "text": [
        "['A']\n",
        "['A', 'd']\n",
        "['A', 'd', 'd']\n"
       ]
      }
     ],
     "prompt_number": 133
    },
    {
     "cell_type": "markdown",
     "metadata": {},
     "source": [
      "We can modify lists by assigning new values to elements in the list. In technical jargon, lists are mutable."
     ]
    },
    {
     "cell_type": "code",
     "collapsed": false,
     "input": [
      "l[1] = \"p\"\n",
      "l[2] = \"p\"\n",
      "\n",
      "print l"
     ],
     "language": "python",
     "metadata": {},
     "outputs": [
      {
       "output_type": "stream",
       "stream": "stdout",
       "text": [
        "['A', 'p', 'p']\n"
       ]
      }
     ],
     "prompt_number": 134
    },
    {
     "cell_type": "code",
     "collapsed": false,
     "input": [
      "l[1:3] = [\"d\", \"d\"]\n",
      "\n",
      "print l"
     ],
     "language": "python",
     "metadata": {},
     "outputs": [
      {
       "output_type": "stream",
       "stream": "stdout",
       "text": [
        "['A', 'd', 'd']\n"
       ]
      }
     ],
     "prompt_number": 135
    },
    {
     "cell_type": "markdown",
     "metadata": {},
     "source": [
      "Insert an element at an specific index using `insert`"
     ]
    },
    {
     "cell_type": "code",
     "collapsed": false,
     "input": [
      "l.insert(0, \"i\")\n",
      "l.insert(1, \"n\")\n",
      "l.insert(2, \"s\")\n",
      "l.insert(3, \"e\")\n",
      "l.insert(4, \"r\")\n",
      "l.insert(5, \"t\")\n",
      "\n",
      "print l"
     ],
     "language": "python",
     "metadata": {},
     "outputs": [
      {
       "output_type": "stream",
       "stream": "stdout",
       "text": [
        "['i', 'n', 's', 'e', 'r', 't', 'A', 'd', 'd']\n"
       ]
      }
     ],
     "prompt_number": 136
    },
    {
     "cell_type": "markdown",
     "metadata": {},
     "source": [
      "Remove first element with specific value using `remove`"
     ]
    },
    {
     "cell_type": "code",
     "collapsed": false,
     "input": [
      "l.remove(\"A\")\n",
      "\n",
      "print(l)"
     ],
     "language": "python",
     "metadata": {},
     "outputs": [
      {
       "output_type": "stream",
       "stream": "stdout",
       "text": [
        "['i', 'n', 's', 'e', 'r', 't', 'd', 'd']\n"
       ]
      }
     ],
     "prompt_number": 137
    },
    {
     "cell_type": "markdown",
     "metadata": {},
     "source": [
      "Remove an element at a specific location using `del`:"
     ]
    },
    {
     "cell_type": "code",
     "collapsed": false,
     "input": [
      "del l[7]\n",
      "del l[6]\n",
      "\n",
      "print(l)"
     ],
     "language": "python",
     "metadata": {},
     "outputs": [
      {
       "output_type": "stream",
       "stream": "stdout",
       "text": [
        "['i', 'n', 's', 'e', 'r', 't']\n"
       ]
      }
     ],
     "prompt_number": 138
    },
    {
     "cell_type": "markdown",
     "metadata": {},
     "source": [
      "See `help(list)` for more details, or read the online documentation"
     ]
    },
    {
     "cell_type": "markdown",
     "metadata": {},
     "source": [
      "### Tuples\n",
      "\n",
      "Tuples are like lists, except that they cannot be modified once created, that is they are immutable.\n",
      "\n",
      "In Python, tuples are created using the syntax `(..., ..., ...)`, or even `..., ...`:"
     ]
    },
    {
     "cell_type": "code",
     "collapsed": false,
     "input": [
      "point = (10, 21)\n",
      "\n",
      "print point, type(point)"
     ],
     "language": "python",
     "metadata": {},
     "outputs": [
      {
       "output_type": "stream",
       "stream": "stdout",
       "text": [
        "(10, 21) <type 'tuple'>\n"
       ]
      }
     ],
     "prompt_number": 143
    },
    {
     "cell_type": "code",
     "collapsed": false,
     "input": [
      "point = 10, 20\n",
      "\n",
      "print point, type(point)"
     ],
     "language": "python",
     "metadata": {},
     "outputs": [
      {
       "output_type": "stream",
       "stream": "stdout",
       "text": [
        "(10, 20) <type 'tuple'>\n"
       ]
      }
     ],
     "prompt_number": 140
    },
    {
     "cell_type": "markdown",
     "metadata": {},
     "source": [
      "We can unpack a tuple by assigning it to a comma-separated list of variables:"
     ]
    },
    {
     "cell_type": "code",
     "collapsed": false,
     "input": [
      "x, y = point\n",
      "\n",
      "print(\"x =\", x)\n",
      "print(\"y =\", y)"
     ],
     "language": "python",
     "metadata": {},
     "outputs": [
      {
       "output_type": "stream",
       "stream": "stdout",
       "text": [
        "('x =', 10)\n",
        "('y =', 20)\n"
       ]
      }
     ],
     "prompt_number": 141
    },
    {
     "cell_type": "markdown",
     "metadata": {},
     "source": [
      "If we try to assign a new value to an element in a tuple we get an error:"
     ]
    },
    {
     "cell_type": "code",
     "collapsed": false,
     "input": [
      "point[0] = 20"
     ],
     "language": "python",
     "metadata": {},
     "outputs": [
      {
       "ename": "TypeError",
       "evalue": "'tuple' object does not support item assignment",
       "output_type": "pyerr",
       "traceback": [
        "\u001b[0;31m---------------------------------------------------------------------------\u001b[0m\n\u001b[0;31mTypeError\u001b[0m                                 Traceback (most recent call last)",
        "\u001b[0;32m<ipython-input-142-ac1c641a5dca>\u001b[0m in \u001b[0;36m<module>\u001b[0;34m()\u001b[0m\n\u001b[0;32m----> 1\u001b[0;31m \u001b[0mpoint\u001b[0m\u001b[0;34m[\u001b[0m\u001b[0;36m0\u001b[0m\u001b[0;34m]\u001b[0m \u001b[0;34m=\u001b[0m \u001b[0;36m20\u001b[0m\u001b[0;34m\u001b[0m\u001b[0m\n\u001b[0m",
        "\u001b[0;31mTypeError\u001b[0m: 'tuple' object does not support item assignment"
       ]
      }
     ],
     "prompt_number": 142
    },
    {
     "cell_type": "markdown",
     "metadata": {},
     "source": [
      "### Dictionaries\n",
      "\n",
      "Dictionaries are also like lists, except that each element is a key-value pair. The syntax for dictionaries is `{key1 : value1, ...}`:"
     ]
    },
    {
     "cell_type": "code",
     "collapsed": false,
     "input": [
      "params = {\"parameter1\" : 1.0,\n",
      "          \"parameter2\" : 2.0,\n",
      "          \"parameter3\" : 3.0,}\n",
      "\n",
      "print type(params)\n",
      "print params"
     ],
     "language": "python",
     "metadata": {},
     "outputs": [
      {
       "output_type": "stream",
       "stream": "stdout",
       "text": [
        "<type 'dict'>\n",
        "{'parameter1': 1.0, 'parameter3': 3.0, 'parameter2': 2.0}\n"
       ]
      }
     ],
     "prompt_number": 144
    },
    {
     "cell_type": "code",
     "collapsed": false,
     "input": [
      "print \"parameter1 = \" + str(params[\"parameter1\"])\n",
      "print \"parameter2 = \" + str(params[\"parameter2\"])\n",
      "print \"parameter3 = \" + str(params[\"parameter3\"])"
     ],
     "language": "python",
     "metadata": {},
     "outputs": [
      {
       "output_type": "stream",
       "stream": "stdout",
       "text": [
        "parameter1 = 1.0\n",
        "parameter2 = 2.0\n",
        "parameter3 = 3.0\n"
       ]
      }
     ],
     "prompt_number": 145
    },
    {
     "cell_type": "code",
     "collapsed": false,
     "input": [
      "params[\"parameter1\"] = \"A\"\n",
      "params[\"parameter2\"] = \"B\"\n",
      "\n",
      "# add a new entry\n",
      "params[\"parameter4\"] = \"D\"\n",
      "\n",
      "print \"parameter1 = \" + str(params[\"parameter1\"])\n",
      "print \"parameter2 = \" + str(params[\"parameter2\"])\n",
      "print \"parameter3 = \" + str(params[\"parameter3\"])\n",
      "print \"parameter4 = \" + str(params[\"parameter4\"])\n",
      "\n",
      "params[\"parameter3\"] = params[\"parameter3\"] + 1\n",
      "print params[\"parameter3\"] \n"
     ],
     "language": "python",
     "metadata": {},
     "outputs": [
      {
       "output_type": "stream",
       "stream": "stdout",
       "text": [
        "parameter1 = A\n",
        "parameter2 = B\n",
        "parameter3 = 4.0\n",
        "parameter4 = D\n",
        "5.0\n"
       ]
      }
     ],
     "prompt_number": 149
    },
    {
     "cell_type": "heading",
     "level": 2,
     "metadata": {},
     "source": [
      "Control Flow"
     ]
    },
    {
     "cell_type": "heading",
     "level": 3,
     "metadata": {},
     "source": [
      "Conditional statements: if, elif, else"
     ]
    },
    {
     "cell_type": "markdown",
     "metadata": {},
     "source": [
      "The Python syntax for conditional execution of code use the keywords `if`, `elif` (else if), `else`:"
     ]
    },
    {
     "cell_type": "code",
     "collapsed": false,
     "input": [
      "statement1 = 7\n",
      "statement2 = True\n",
      "\n",
      "if statement1 > 6:\n",
      "    print \"statement1 is True\"\n",
      "    \n",
      "elif statement2 == True:\n",
      "    print \"statement2 is True\"\n",
      "    \n",
      "else:\n",
      "    print \"statement1 and statement2 are False\""
     ],
     "language": "python",
     "metadata": {},
     "outputs": [
      {
       "output_type": "stream",
       "stream": "stdout",
       "text": [
        "statement1 is True\n"
       ]
      }
     ],
     "prompt_number": 158
    },
    {
     "cell_type": "markdown",
     "metadata": {},
     "source": [
      "For the first time, here we encounted a peculiar and unusual aspect of the Python programming language: Program blocks are defined by their indentation level.\n",
      "\n",
      "Compare to the equivalent C code:\n",
      "\n",
      "    if (statement1)\n",
      "    {\n",
      "        printf(\"statement1 is True\\n\");\n",
      "    }\n",
      "    else if (statement2)\n",
      "    {\n",
      "        printf(\"statement2 is True\\n\");\n",
      "    }\n",
      "    else\n",
      "    {\n",
      "    printf(\"statement1 and statement2 are False\\n\");\n",
      "    }\n",
      "\n",
      "In C blocks are defined by the enclosing curly brakets `{` and `}`. And the level of indentation (white space before the code statements) does not matter (completely optional).\n",
      "\n",
      "But in Python, the extent of a code block is defined by the indentation level (usually a tab or say four white spaces). This means that we have to be careful to indent our code correctly, or else we will get syntax errors."
     ]
    },
    {
     "cell_type": "code",
     "collapsed": false,
     "input": [
      "statement1 = True\n",
      "statement2 = True\n",
      "\n",
      "if statement1 == True or statement2 == True:\n",
      "        print \"both statement1 and statement2 are True\""
     ],
     "language": "python",
     "metadata": {},
     "outputs": [
      {
       "output_type": "stream",
       "stream": "stdout",
       "text": [
        "both statement1 and statement2 are True\n"
       ]
      }
     ],
     "prompt_number": 161
    },
    {
     "cell_type": "code",
     "collapsed": false,
     "input": [
      "# Bad indentation!\n",
      "if statement1:\n",
      "    if statement2:\n",
      "        print 'hi'\n",
      "    print \"both statement1 and statement2 are True\"  # this line is not properly indented"
     ],
     "language": "python",
     "metadata": {},
     "outputs": [
      {
       "output_type": "stream",
       "stream": "stdout",
       "text": [
        "hi\n",
        "both statement1 and statement2 are True\n"
       ]
      }
     ],
     "prompt_number": 163
    },
    {
     "cell_type": "code",
     "collapsed": false,
     "input": [
      "statement1 = False \n",
      "\n",
      "if statement1:\n",
      "    print \"printed if statement1 is True\"\n",
      "    \n",
      "    print \"still inside the if block\""
     ],
     "language": "python",
     "metadata": {},
     "outputs": [],
     "prompt_number": 164
    },
    {
     "cell_type": "markdown",
     "metadata": {},
     "source": [
      "### Loops\n",
      "In Python, loops can be programmed in a number of different ways. The most common is the for loop, which is used together with iterable objects, such as lists. The basic syntax is:"
     ]
    },
    {
     "cell_type": "code",
     "collapsed": false,
     "input": [
      "for x in [1,2,3]:\n",
      "    print x"
     ],
     "language": "python",
     "metadata": {},
     "outputs": []
    },
    {
     "cell_type": "markdown",
     "metadata": {},
     "source": [
      "The for loop iterates over the elements of the supplied list, and executes the containing block once for each element. Any kind of list can be used in the for loop. For example:"
     ]
    },
    {
     "cell_type": "code",
     "collapsed": false,
     "input": [
      "for x in range(4): # by default range start at 0\n",
      "    print x"
     ],
     "language": "python",
     "metadata": {},
     "outputs": []
    },
    {
     "cell_type": "markdown",
     "metadata": {},
     "source": [
      "Note: `range(4)` does not include 4 !"
     ]
    },
    {
     "cell_type": "code",
     "collapsed": false,
     "input": [
      "for x in range(-3,3):\n",
      "    print x"
     ],
     "language": "python",
     "metadata": {},
     "outputs": []
    },
    {
     "cell_type": "code",
     "collapsed": false,
     "input": [
      "for word in [\"scientific\", \"computing\", \"with\", \"python\"]:\n",
      "    print word"
     ],
     "language": "python",
     "metadata": {},
     "outputs": []
    },
    {
     "cell_type": "markdown",
     "metadata": {},
     "source": [
      "To iterate over key-value pairs of a dictionary:"
     ]
    },
    {
     "cell_type": "code",
     "collapsed": false,
     "input": [
      "for key, value in params.items():\n",
      "    print(key + \" = \" + str(value))"
     ],
     "language": "python",
     "metadata": {},
     "outputs": []
    },
    {
     "cell_type": "markdown",
     "metadata": {},
     "source": [
      "Sometimes it is useful to have access to the indices of the values when iterating over a list. We can use the enumerate function for this:"
     ]
    },
    {
     "cell_type": "code",
     "collapsed": false,
     "input": [
      "for idx, x in enumerate(range(-3,3)):\n",
      "    print idx, x"
     ],
     "language": "python",
     "metadata": {},
     "outputs": []
    },
    {
     "cell_type": "markdown",
     "metadata": {},
     "source": [
      "#### List comprehensions: Creating lists using for loops:\n",
      "\n",
      "A convenient and compact way to initialize lists"
     ]
    },
    {
     "cell_type": "code",
     "collapsed": false,
     "input": [
      "l1 = [x**2 for x in range(0,5)]\n",
      "\n",
      "print l1"
     ],
     "language": "python",
     "metadata": {},
     "outputs": [
      {
       "output_type": "stream",
       "stream": "stdout",
       "text": [
        "[0, 1, 4, 9, 16]\n"
       ]
      }
     ],
     "prompt_number": 1
    },
    {
     "cell_type": "markdown",
     "metadata": {},
     "source": [
      "#### `while` loops:"
     ]
    },
    {
     "cell_type": "code",
     "collapsed": false,
     "input": [
      "i = 0\n",
      "\n",
      "while i < 5:\n",
      "    print i\n",
      "    \n",
      "    i = i + 1\n",
      "    \n",
      "print(\"done\")"
     ],
     "language": "python",
     "metadata": {},
     "outputs": []
    },
    {
     "cell_type": "markdown",
     "metadata": {},
     "source": [
      "Note that the print(\"done\") statement is not part of the while loop body because of the difference in indentation."
     ]
    },
    {
     "cell_type": "markdown",
     "metadata": {},
     "source": [
      "## Functions\n",
      "\n",
      "A function in Python is defined using the keyword `def`, followed by a function name, a signature within parentheses `()`, and a colon `:`.\n",
      "\n",
      "The following code, with one additional level of indentation, is the function body."
     ]
    },
    {
     "cell_type": "code",
     "collapsed": false,
     "input": [
      "def func0():   \n",
      "    print(\"test\")"
     ],
     "language": "python",
     "metadata": {},
     "outputs": []
    },
    {
     "cell_type": "code",
     "collapsed": false,
     "input": [
      "func0()"
     ],
     "language": "python",
     "metadata": {},
     "outputs": []
    },
    {
     "cell_type": "markdown",
     "metadata": {},
     "source": [
      "Optionally, but highly recommended, we can define a so called \"docstring\", which is a description of the functions purpose and behaivor. The docstring should follow directly after the function definition, before the code in the function body."
     ]
    },
    {
     "cell_type": "code",
     "collapsed": false,
     "input": [
      "def func1(s):\n",
      "    \"\"\"\n",
      "    Print a string 's' and tell how many characters it has    \n",
      "    \"\"\"\n",
      "    \n",
      "    print(s + \" has \" + str(len(s)) + \" characters\")"
     ],
     "language": "python",
     "metadata": {},
     "outputs": []
    },
    {
     "cell_type": "code",
     "collapsed": false,
     "input": [
      "help(func1)"
     ],
     "language": "python",
     "metadata": {},
     "outputs": []
    },
    {
     "cell_type": "code",
     "collapsed": false,
     "input": [
      "func1(\"test\")"
     ],
     "language": "python",
     "metadata": {},
     "outputs": []
    },
    {
     "cell_type": "markdown",
     "metadata": {},
     "source": [
      "Functions that returns a value use the return keyword:"
     ]
    },
    {
     "cell_type": "code",
     "collapsed": false,
     "input": [
      "square(4)"
     ],
     "language": "python",
     "metadata": {},
     "outputs": []
    },
    {
     "cell_type": "markdown",
     "metadata": {},
     "source": [
      "We can return multiple values from a function using tuples (see above):"
     ]
    },
    {
     "cell_type": "code",
     "collapsed": false,
     "input": [
      "def powers(x):\n",
      "    \"\"\"\n",
      "    Return a few powers of x.\n",
      "    \"\"\"\n",
      "    return x ** 2, x ** 3, x ** 4"
     ],
     "language": "python",
     "metadata": {},
     "outputs": []
    },
    {
     "cell_type": "code",
     "collapsed": false,
     "input": [
      "powers(3)"
     ],
     "language": "python",
     "metadata": {},
     "outputs": []
    },
    {
     "cell_type": "code",
     "collapsed": false,
     "input": [
      "x2, x3, x4 = powers(3)\n",
      "\n",
      "print x3"
     ],
     "language": "python",
     "metadata": {},
     "outputs": []
    },
    {
     "cell_type": "markdown",
     "metadata": {},
     "source": [
      "### Default argument and keyword arguments\n",
      "\n",
      "In a definition of a function, we can give default values to the arguments the function takes:"
     ]
    },
    {
     "cell_type": "code",
     "collapsed": false,
     "input": [
      "def myfunc(x, p=2, debug=False):\n",
      "    if debug:\n",
      "        print(\"evaluating myfunc for x = \" + str(x) + \" using exponent p = \" + str(p))\n",
      "    return x**p"
     ],
     "language": "python",
     "metadata": {},
     "outputs": []
    },
    {
     "cell_type": "code",
     "collapsed": false,
     "input": [
      "If we don't provide a value of the debug argument when calling the the function myfunc it defaults to the value provided in the function definition:"
     ],
     "language": "python",
     "metadata": {},
     "outputs": []
    },
    {
     "cell_type": "code",
     "collapsed": false,
     "input": [
      "myfunc(5)"
     ],
     "language": "python",
     "metadata": {},
     "outputs": []
    },
    {
     "cell_type": "code",
     "collapsed": false,
     "input": [
      "myfunc(5, debug=True)"
     ],
     "language": "python",
     "metadata": {},
     "outputs": []
    },
    {
     "cell_type": "markdown",
     "metadata": {},
     "source": [
      "If we explicitly list the name of the arguments in the function calls, they do not need to come in the same order as in the function definition. This is called keyword arguments, and is often very useful in functions that takes a lot of optional arguments."
     ]
    },
    {
     "cell_type": "code",
     "collapsed": false,
     "input": [
      "myfunc(p=3, debug=True, x=7)"
     ],
     "language": "python",
     "metadata": {},
     "outputs": []
    }
   ],
   "metadata": {}
  }
 ]
}