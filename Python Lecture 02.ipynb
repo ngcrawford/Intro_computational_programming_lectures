{
 "metadata": {
  "name": ""
 },
 "nbformat": 3,
 "nbformat_minor": 0,
 "worksheets": [
  {
   "cells": [
    {
     "cell_type": "markdown",
     "metadata": {},
     "source": [
      "## Instructions\n",
      "\n",
      "This lecture is intended to be a collaborative coding discussion. You'll get some experience parsing files and calculating summary statistics from them."
     ]
    },
    {
     "cell_type": "markdown",
     "metadata": {},
     "source": [
      "### Print lines from gzipped fastq\n",
      "\n",
      "You'll need to use google to find the module for interating with gzip files.\n",
      "\n",
      "A gzipped fastq file is here: `test_data/heli.R1s.fq.gz`\n"
     ]
    },
    {
     "cell_type": "code",
     "collapsed": false,
     "input": [
      "import gzip\n",
      "fin = gzip.open('test_data/heli.R1s.fq.gz', \"rb\")\n",
      "for line in enumerate(fin):\n",
      "    count, txt = line\n",
      "    count = line[0]\n",
      "    txt = line[1]\n",
      "    \n",
      "    # print line\n",
      "#     print count\n",
      "#     print txt\n",
      "#     print \"\\n\"\n",
      "    \n",
      "    if count > 8:\n",
      "        break"
     ],
     "language": "python",
     "metadata": {},
     "outputs": [],
     "prompt_number": 6
    },
    {
     "cell_type": "markdown",
     "metadata": {},
     "source": [
      "### Calculate Average Read Length\n",
      "* First you'll need to print only the sequence lines\n",
      "* Then you'll need to use a built in python function to calculate the length of the sequence\n",
      "* Lastly you'll need to store all the sequence lengths somewhere so you can calculate the average..."
     ]
    },
    {
     "cell_type": "code",
     "collapsed": false,
     "input": [
      "import gzip\n",
      "fin = gzip.open('test_data/heli.R1s.fq.gz', \"rb\")\n",
      "seq_lengths = []\n",
      "for count, line in enumerate(fin):\n",
      "    line = line.strip()\n",
      "    \n",
      "    if count % 4 == 1:\n",
      "        seq_lengths.append(len(line))\n",
      "    \n",
      "#     if count > 8:\n",
      "#         break\n",
      "print len(seq_lengths)\n",
      "print sum(seq_lengths)/ float(len(seq_lengths))"
     ],
     "language": "python",
     "metadata": {},
     "outputs": [
      {
       "output_type": "stream",
       "stream": "stdout",
       "text": [
        "10000\n",
        "89.9911\n"
       ]
      }
     ],
     "prompt_number": 19
    },
    {
     "cell_type": "markdown",
     "metadata": {},
     "source": [
      "### Calculate the GC content for each sequence\n",
      "\n",
      "* Think about how you can use a dictionary to store the counts"
     ]
    },
    {
     "cell_type": "code",
     "collapsed": false,
     "input": [
      "\n",
      "def calc_GC(DNAseq):\n",
      "    GC = 0\n",
      "    GC_fancy = 0\n",
      "    for s in DNAseq:\n",
      "        if s == 'G':\n",
      "            GC += 1\n",
      "        if s == 'C':\n",
      "            GC += 1\n",
      "\n",
      "    \n",
      "        if s == 'G' or s == 'C':\n",
      "            \n",
      "            GC_fancy += 1\n",
      "    print GC\n",
      "    print GC_fancy\n",
      "    \n",
      "    pass\n",
      "\n",
      "\n",
      "seq = 'GGGCAAA'\n",
      "calc_GC(seq)\n"
     ],
     "language": "python",
     "metadata": {},
     "outputs": [
      {
       "output_type": "stream",
       "stream": "stdout",
       "text": [
        "4\n",
        "4\n"
       ]
      }
     ],
     "prompt_number": 23
    },
    {
     "cell_type": "code",
     "collapsed": false,
     "input": [
      "import numpy"
     ],
     "language": "python",
     "metadata": {},
     "outputs": [],
     "prompt_number": 24
    },
    {
     "cell_type": "code",
     "collapsed": false,
     "input": [
      "numpy.var"
     ],
     "language": "python",
     "metadata": {},
     "outputs": []
    }
   ],
   "metadata": {}
  }
 ]
}