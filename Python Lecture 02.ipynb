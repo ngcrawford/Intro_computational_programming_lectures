{
 "metadata": {
  "name": ""
 },
 "nbformat": 3,
 "nbformat_minor": 0,
 "worksheets": [
  {
   "cells": [
    {
     "cell_type": "markdown",
     "metadata": {},
     "source": [
      "## Instructions\n",
      "\n",
      "This lecture is intended to be a collaborative coding discussion. You'll get some experience parsing files and calculating summary statistics from them."
     ]
    },
    {
     "cell_type": "markdown",
     "metadata": {},
     "source": [
      "### Print lines from gzipped fastq\n",
      "\n",
      "You'll need to use google to find the module for interating with gzip files.\n",
      "\n",
      "A gzipped fastq file is here: `test_data/heli.R1s.fq.gz`\n"
     ]
    },
    {
     "cell_type": "code",
     "collapsed": false,
     "input": [],
     "language": "python",
     "metadata": {},
     "outputs": []
    },
    {
     "cell_type": "markdown",
     "metadata": {},
     "source": [
      "### Calculate Average Read Length\n",
      "* First you'll need to print only the sequence lines\n",
      "* Then you'll need to use a built in python function to calculate the length of the sequence\n",
      "* Lastly you'll need to store all the sequence lengths somewhere so you can calculate the average..."
     ]
    },
    {
     "cell_type": "code",
     "collapsed": false,
     "input": [],
     "language": "python",
     "metadata": {},
     "outputs": []
    },
    {
     "cell_type": "markdown",
     "metadata": {},
     "source": [
      "### Calculate the GC content for each sequence\n",
      "\n",
      "* Think about how you can use a dictionary to store the counts"
     ]
    },
    {
     "cell_type": "code",
     "collapsed": false,
     "input": [],
     "language": "python",
     "metadata": {},
     "outputs": []
    }
   ],
   "metadata": {}
  }
 ]
}