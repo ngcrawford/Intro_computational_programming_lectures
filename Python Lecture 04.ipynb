{
 "metadata": {
  "name": ""
 },
 "nbformat": 3,
 "nbformat_minor": 0,
 "worksheets": [
  {
   "cells": [
    {
     "cell_type": "markdown",
     "metadata": {},
     "source": [
      "### Main Assignment\n",
      "\n",
      "**Basic version.** Write a standalone script to trim a user defined number of base-pairs off each read in a fastq file.\n",
      "\n",
      "        python script_name.py -S 5 -E 4 input.fq.gz\n",
      "\n",
      "The trimmed reads should be written to STOUT.\n",
      "\n",
      "**Fancy version.** Use the jellyfish module to trim user defined tags at the start of reads allowing for at least 1 mutation within the tag.\n",
      "\n",
      "Some tag possiblities:\n",
      "\n",
      "* GCATG\n",
      "* AACCA\n",
      "* CGATC\n",
      "* TCGAT\n",
      "\n",
      "https://github.com/sunlightlabs/jellyfish\n",
      "\n",
      "### But, before we begin...\n",
      "\n",
      "**How do you write stand-alone scripts?**\n",
      "\n",
      "* **argparse** module: http://docs.python.org/dev/library/argparse.html argparse consumes command-line arguments and makes them accessible within the script.\n",
      "\n",
      "    * *Help menu?* A good script should print out information about use it so that users don't have to consult the internet or email the author to get it running. **Argaparse** makes this easy to do.\n",
      "\n",
      "* **Licensing** legally, to share your script so that other people can use it, it is required to have an open source license. Luckily, there are lots of options available: http://choosealicense.com/\n",
      "\n"
     ]
    },
    {
     "cell_type": "code",
     "collapsed": false,
     "input": [],
     "language": "python",
     "metadata": {},
     "outputs": []
    }
   ],
   "metadata": {}
  }
 ]
}