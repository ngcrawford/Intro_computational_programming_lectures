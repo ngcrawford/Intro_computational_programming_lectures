{
 "metadata": {
  "name": ""
 },
 "nbformat": 3,
 "nbformat_minor": 0,
 "worksheets": [
  {
   "cells": [
    {
     "cell_type": "heading",
     "level": 1,
     "metadata": {},
     "source": [
      "Pandas basics (Data analysis)"
     ]
    },
    {
     "cell_type": "heading",
     "level": 3,
     "metadata": {},
     "source": [
      "From Python structures"
     ]
    },
    {
     "cell_type": "code",
     "collapsed": false,
     "input": [
      "import pandas as pd"
     ],
     "language": "python",
     "metadata": {},
     "outputs": [],
     "prompt_number": 3
    },
    {
     "cell_type": "code",
     "collapsed": false,
     "input": [
      "labels = ['a', 'b', 'c', 'nick', 'e']\n",
      "s = pd.Series([1, 2, 3, 4, 5], index=labels)\n",
      "s"
     ],
     "language": "python",
     "metadata": {},
     "outputs": [
      {
       "metadata": {},
       "output_type": "pyout",
       "prompt_number": 9,
       "text": [
        "a       1\n",
        "b       2\n",
        "c       3\n",
        "nick    4\n",
        "e       5\n",
        "dtype: int64"
       ]
      }
     ],
     "prompt_number": 9
    },
    {
     "cell_type": "code",
     "collapsed": false,
     "input": [
      "'b' in s"
     ],
     "language": "python",
     "metadata": {},
     "outputs": [
      {
       "metadata": {},
       "output_type": "pyout",
       "prompt_number": 5,
       "text": [
        "True"
       ]
      }
     ],
     "prompt_number": 5
    },
    {
     "cell_type": "code",
     "collapsed": false,
     "input": [
      "s."
     ],
     "language": "python",
     "metadata": {},
     "outputs": [
      {
       "metadata": {},
       "output_type": "pyout",
       "prompt_number": 8,
       "text": [
        "4"
       ]
      }
     ],
     "prompt_number": 8
    },
    {
     "cell_type": "code",
     "collapsed": false,
     "input": [
      "mapping = s.to_dict()\n",
      "mapping"
     ],
     "language": "python",
     "metadata": {},
     "outputs": [
      {
       "metadata": {},
       "output_type": "pyout",
       "prompt_number": 7,
       "text": [
        "{'a': 1, 'b': 2, 'c': 3, 'd': 4, 'e': 5}"
       ]
      }
     ],
     "prompt_number": 7
    },
    {
     "cell_type": "code",
     "collapsed": false,
     "input": [
      "pd.Series(mapping)"
     ],
     "language": "python",
     "metadata": {},
     "outputs": [
      {
       "metadata": {},
       "output_type": "pyout",
       "prompt_number": 10,
       "text": [
        "a    1\n",
        "b    2\n",
        "c    3\n",
        "d    4\n",
        "e    5\n",
        "dtype: int64"
       ]
      }
     ],
     "prompt_number": 10
    },
    {
     "cell_type": "heading",
     "level": 3,
     "metadata": {},
     "source": [
      "Allele Frequency Data"
     ]
    },
    {
     "cell_type": "code",
     "collapsed": false,
     "input": [
      "df = pd.read_csv('test_data/chr5_island.RADs.AF.txt', sep='\\t')\n",
      "df.head()"
     ],
     "language": "python",
     "metadata": {},
     "outputs": [
      {
       "html": [
        "<pre>\n",
        "&lt;class 'pandas.core.frame.DataFrame'&gt;\n",
        "Int64Index: 5 entries, 0 to 4\n",
        "Data columns (total 25 columns):\n",
        "CHROM                           5  non-null values\n",
        "POS                             5  non-null values\n",
        "QUAL                            5  non-null values\n",
        "TOTAL_DEPTH                     5  non-null values\n",
        "So_Riviere_Goyaves.AC           5  non-null values\n",
        "N_Goyave.AC                     5  non-null values\n",
        "Plage_de_Viard.AC               5  non-null values\n",
        "Plage_au_Petit_Bourg.AC         5  non-null values\n",
        "St_Marie.AC                     5  non-null values\n",
        "Marina.AC                       5  non-null values\n",
        "Capasterre.AC                   5  non-null values\n",
        "So_Riviere_Goyaves.popsize      5  non-null values\n",
        "N_Goyave.popsize                5  non-null values\n",
        "Plage_de_Viard.popsize          5  non-null values\n",
        "Plage_au_Petit_Bourg.popsize    5  non-null values\n",
        "St_Marie.popsize                5  non-null values\n",
        "Marina.popsize                  5  non-null values\n",
        "Capasterre.popsize              5  non-null values\n",
        "So_Riviere_Goyaves.AF           5  non-null values\n",
        "N_Goyave.AF                     1  non-null values\n",
        "Plage_de_Viard.AF               1  non-null values\n",
        "Plage_au_Petit_Bourg.AF         4  non-null values\n",
        "St_Marie.AF                     4  non-null values\n",
        "Marina.AF                       5  non-null values\n",
        "Capasterre.AF                   5  non-null values\n",
        "dtypes: float64(22), int64(3)\n",
        "</pre>"
       ],
       "metadata": {},
       "output_type": "pyout",
       "prompt_number": 11,
       "text": [
        "<class 'pandas.core.frame.DataFrame'>\n",
        "Int64Index: 5 entries, 0 to 4\n",
        "Data columns (total 25 columns):\n",
        "CHROM                           5  non-null values\n",
        "POS                             5  non-null values\n",
        "QUAL                            5  non-null values\n",
        "TOTAL_DEPTH                     5  non-null values\n",
        "So_Riviere_Goyaves.AC           5  non-null values\n",
        "N_Goyave.AC                     5  non-null values\n",
        "Plage_de_Viard.AC               5  non-null values\n",
        "Plage_au_Petit_Bourg.AC         5  non-null values\n",
        "St_Marie.AC                     5  non-null values\n",
        "Marina.AC                       5  non-null values\n",
        "Capasterre.AC                   5  non-null values\n",
        "So_Riviere_Goyaves.popsize      5  non-null values\n",
        "N_Goyave.popsize                5  non-null values\n",
        "Plage_de_Viard.popsize          5  non-null values\n",
        "Plage_au_Petit_Bourg.popsize    5  non-null values\n",
        "St_Marie.popsize                5  non-null values\n",
        "Marina.popsize                  5  non-null values\n",
        "Capasterre.popsize              5  non-null values\n",
        "So_Riviere_Goyaves.AF           5  non-null values\n",
        "N_Goyave.AF                     1  non-null values\n",
        "Plage_de_Viard.AF               1  non-null values\n",
        "Plage_au_Petit_Bourg.AF         4  non-null values\n",
        "St_Marie.AF                     4  non-null values\n",
        "Marina.AF                       5  non-null values\n",
        "Capasterre.AF                   5  non-null values\n",
        "dtypes: float64(22), int64(3)"
       ]
      }
     ],
     "prompt_number": 11
    },
    {
     "cell_type": "code",
     "collapsed": false,
     "input": [
      "df[['CHROM','POS','QUAL','TOTAL_DEPTH']].head()"
     ],
     "language": "python",
     "metadata": {},
     "outputs": [
      {
       "html": [
        "<div style=\"max-height:1000px;max-width:1500px;overflow:auto;\">\n",
        "<table border=\"1\" class=\"dataframe\">\n",
        "  <thead>\n",
        "    <tr style=\"text-align: right;\">\n",
        "      <th></th>\n",
        "      <th>CHROM</th>\n",
        "      <th>POS</th>\n",
        "      <th>QUAL</th>\n",
        "      <th>TOTAL_DEPTH</th>\n",
        "    </tr>\n",
        "  </thead>\n",
        "  <tbody>\n",
        "    <tr>\n",
        "      <th>0</th>\n",
        "      <td> 5</td>\n",
        "      <td> 88301340</td>\n",
        "      <td>    45.15</td>\n",
        "      <td>  97</td>\n",
        "    </tr>\n",
        "    <tr>\n",
        "      <th>1</th>\n",
        "      <td> 5</td>\n",
        "      <td> 88301341</td>\n",
        "      <td>  3968.86</td>\n",
        "      <td>  97</td>\n",
        "    </tr>\n",
        "    <tr>\n",
        "      <th>2</th>\n",
        "      <td> 5</td>\n",
        "      <td> 88301347</td>\n",
        "      <td>  3892.85</td>\n",
        "      <td>  97</td>\n",
        "    </tr>\n",
        "    <tr>\n",
        "      <th>3</th>\n",
        "      <td> 5</td>\n",
        "      <td> 88308613</td>\n",
        "      <td> 10832.97</td>\n",
        "      <td> 268</td>\n",
        "    </tr>\n",
        "    <tr>\n",
        "      <th>4</th>\n",
        "      <td> 5</td>\n",
        "      <td> 88308647</td>\n",
        "      <td>   285.08</td>\n",
        "      <td>   9</td>\n",
        "    </tr>\n",
        "  </tbody>\n",
        "</table>\n",
        "</div>"
       ],
       "metadata": {},
       "output_type": "pyout",
       "prompt_number": 12,
       "text": [
        "   CHROM       POS      QUAL  TOTAL_DEPTH\n",
        "0      5  88301340     45.15           97\n",
        "1      5  88301341   3968.86           97\n",
        "2      5  88301347   3892.85           97\n",
        "3      5  88308613  10832.97          268\n",
        "4      5  88308647    285.08            9"
       ]
      }
     ],
     "prompt_number": 12
    },
    {
     "cell_type": "code",
     "collapsed": false,
     "input": [
      "df[['CHROM','POS','QUAL','TOTAL_DEPTH']].describe()"
     ],
     "language": "python",
     "metadata": {},
     "outputs": [
      {
       "html": [
        "<div style=\"max-height:1000px;max-width:1500px;overflow:auto;\">\n",
        "<table border=\"1\" class=\"dataframe\">\n",
        "  <thead>\n",
        "    <tr style=\"text-align: right;\">\n",
        "      <th></th>\n",
        "      <th>CHROM</th>\n",
        "      <th>POS</th>\n",
        "      <th>QUAL</th>\n",
        "      <th>TOTAL_DEPTH</th>\n",
        "    </tr>\n",
        "  </thead>\n",
        "  <tbody>\n",
        "    <tr>\n",
        "      <th>count</th>\n",
        "      <td> 960</td>\n",
        "      <td>      960.000000</td>\n",
        "      <td>   960.000000</td>\n",
        "      <td>   960.000000</td>\n",
        "    </tr>\n",
        "    <tr>\n",
        "      <th>mean</th>\n",
        "      <td>   5</td>\n",
        "      <td> 93114951.144792</td>\n",
        "      <td>  1482.783813</td>\n",
        "      <td>   219.163542</td>\n",
        "    </tr>\n",
        "    <tr>\n",
        "      <th>std</th>\n",
        "      <td>   0</td>\n",
        "      <td>  2840254.527553</td>\n",
        "      <td>  2518.405856</td>\n",
        "      <td>  1122.879154</td>\n",
        "    </tr>\n",
        "    <tr>\n",
        "      <th>min</th>\n",
        "      <td>   5</td>\n",
        "      <td> 88301340.000000</td>\n",
        "      <td>    30.550000</td>\n",
        "      <td>     2.000000</td>\n",
        "    </tr>\n",
        "    <tr>\n",
        "      <th>25%</th>\n",
        "      <td>   5</td>\n",
        "      <td> 90550442.250000</td>\n",
        "      <td>   124.760000</td>\n",
        "      <td>     7.000000</td>\n",
        "    </tr>\n",
        "    <tr>\n",
        "      <th>50%</th>\n",
        "      <td>   5</td>\n",
        "      <td> 93071916.500000</td>\n",
        "      <td>   374.555000</td>\n",
        "      <td>    31.000000</td>\n",
        "    </tr>\n",
        "    <tr>\n",
        "      <th>75%</th>\n",
        "      <td>   5</td>\n",
        "      <td> 95666924.500000</td>\n",
        "      <td>  1467.107500</td>\n",
        "      <td>   110.000000</td>\n",
        "    </tr>\n",
        "    <tr>\n",
        "      <th>max</th>\n",
        "      <td>   5</td>\n",
        "      <td> 97993353.000000</td>\n",
        "      <td> 13787.790000</td>\n",
        "      <td> 11799.000000</td>\n",
        "    </tr>\n",
        "  </tbody>\n",
        "</table>\n",
        "</div>"
       ],
       "metadata": {},
       "output_type": "pyout",
       "prompt_number": 25,
       "text": [
        "       CHROM              POS          QUAL   TOTAL_DEPTH\n",
        "count    960       960.000000    960.000000    960.000000\n",
        "mean       5  93114951.144792   1482.783813    219.163542\n",
        "std        0   2840254.527553   2518.405856   1122.879154\n",
        "min        5  88301340.000000     30.550000      2.000000\n",
        "25%        5  90550442.250000    124.760000      7.000000\n",
        "50%        5  93071916.500000    374.555000     31.000000\n",
        "75%        5  95666924.500000   1467.107500    110.000000\n",
        "max        5  97993353.000000  13787.790000  11799.000000"
       ]
      }
     ],
     "prompt_number": 25
    },
    {
     "cell_type": "markdown",
     "metadata": {},
     "source": [
      "Series and DataFrame: First steps\n",
      "=================================\n",
      "\n",
      "* Indexing\n",
      "* Slicing\n",
      "* Creating new columns"
     ]
    },
    {
     "cell_type": "code",
     "collapsed": false,
     "input": [
      "df['QUAL'][1:15]"
     ],
     "language": "python",
     "metadata": {},
     "outputs": [
      {
       "metadata": {},
       "output_type": "pyout",
       "prompt_number": 13,
       "text": [
        "1      3968.86\n",
        "2      3892.85\n",
        "3     10832.97\n",
        "4       285.08\n",
        "5       275.07\n",
        "6       171.17\n",
        "7       228.14\n",
        "8      2673.45\n",
        "9      2663.43\n",
        "10     2673.45\n",
        "11     2673.45\n",
        "12     2673.45\n",
        "13     2646.82\n",
        "14     2620.14\n",
        "Name: QUAL, dtype: float64"
       ]
      }
     ],
     "prompt_number": 13
    },
    {
     "cell_type": "markdown",
     "metadata": {},
     "source": [
      "A DataFrame is a collection of Series objects. Slicing out a DataFrame column returns a Series."
     ]
    },
    {
     "cell_type": "code",
     "collapsed": false,
     "input": [
      "type(df['QUAL'][1:15])"
     ],
     "language": "python",
     "metadata": {},
     "outputs": [
      {
       "metadata": {},
       "output_type": "pyout",
       "prompt_number": 14,
       "text": [
        "pandas.core.series.Series"
       ]
      }
     ],
     "prompt_number": 14
    },
    {
     "cell_type": "code",
     "collapsed": false,
     "input": [
      "df['QUAL'][1:15]\n"
     ],
     "language": "python",
     "metadata": {},
     "outputs": [
      {
       "metadata": {},
       "output_type": "pyout",
       "prompt_number": 18,
       "text": [
        "1      3968.86\n",
        "2      3892.85\n",
        "3     10832.97\n",
        "4       285.08\n",
        "5       275.07\n",
        "6       171.17\n",
        "7       228.14\n",
        "8      2673.45\n",
        "9      2663.43\n",
        "10     2673.45\n",
        "11     2673.45\n",
        "12     2673.45\n",
        "13     2646.82\n",
        "14     2620.14\n",
        "Name: QUAL, dtype: float64"
       ]
      }
     ],
     "prompt_number": 18
    },
    {
     "cell_type": "markdown",
     "metadata": {},
     "source": [
      "New columns can be added on the fly."
     ]
    },
    {
     "cell_type": "code",
     "collapsed": false,
     "input": [
      "df['END'] = df['POS'] + 1\n",
      "df.head()"
     ],
     "language": "python",
     "metadata": {},
     "outputs": [
      {
       "html": [
        "<pre>\n",
        "&lt;class 'pandas.core.frame.DataFrame'&gt;\n",
        "Int64Index: 5 entries, 0 to 4\n",
        "Data columns (total 26 columns):\n",
        "CHROM                           5  non-null values\n",
        "POS                             5  non-null values\n",
        "QUAL                            5  non-null values\n",
        "TOTAL_DEPTH                     5  non-null values\n",
        "So_Riviere_Goyaves.AC           5  non-null values\n",
        "N_Goyave.AC                     5  non-null values\n",
        "Plage_de_Viard.AC               5  non-null values\n",
        "Plage_au_Petit_Bourg.AC         5  non-null values\n",
        "St_Marie.AC                     5  non-null values\n",
        "Marina.AC                       5  non-null values\n",
        "Capasterre.AC                   5  non-null values\n",
        "So_Riviere_Goyaves.popsize      5  non-null values\n",
        "N_Goyave.popsize                5  non-null values\n",
        "Plage_de_Viard.popsize          5  non-null values\n",
        "Plage_au_Petit_Bourg.popsize    5  non-null values\n",
        "St_Marie.popsize                5  non-null values\n",
        "Marina.popsize                  5  non-null values\n",
        "Capasterre.popsize              5  non-null values\n",
        "So_Riviere_Goyaves.AF           5  non-null values\n",
        "N_Goyave.AF                     1  non-null values\n",
        "Plage_de_Viard.AF               1  non-null values\n",
        "Plage_au_Petit_Bourg.AF         4  non-null values\n",
        "St_Marie.AF                     4  non-null values\n",
        "Marina.AF                       5  non-null values\n",
        "Capasterre.AF                   5  non-null values\n",
        "END                             5  non-null values\n",
        "dtypes: float64(22), int64(4)\n",
        "</pre>"
       ],
       "metadata": {},
       "output_type": "pyout",
       "prompt_number": 19,
       "text": [
        "<class 'pandas.core.frame.DataFrame'>\n",
        "Int64Index: 5 entries, 0 to 4\n",
        "Data columns (total 26 columns):\n",
        "CHROM                           5  non-null values\n",
        "POS                             5  non-null values\n",
        "QUAL                            5  non-null values\n",
        "TOTAL_DEPTH                     5  non-null values\n",
        "So_Riviere_Goyaves.AC           5  non-null values\n",
        "N_Goyave.AC                     5  non-null values\n",
        "Plage_de_Viard.AC               5  non-null values\n",
        "Plage_au_Petit_Bourg.AC         5  non-null values\n",
        "St_Marie.AC                     5  non-null values\n",
        "Marina.AC                       5  non-null values\n",
        "Capasterre.AC                   5  non-null values\n",
        "So_Riviere_Goyaves.popsize      5  non-null values\n",
        "N_Goyave.popsize                5  non-null values\n",
        "Plage_de_Viard.popsize          5  non-null values\n",
        "Plage_au_Petit_Bourg.popsize    5  non-null values\n",
        "St_Marie.popsize                5  non-null values\n",
        "Marina.popsize                  5  non-null values\n",
        "Capasterre.popsize              5  non-null values\n",
        "So_Riviere_Goyaves.AF           5  non-null values\n",
        "N_Goyave.AF                     1  non-null values\n",
        "Plage_de_Viard.AF               1  non-null values\n",
        "Plage_au_Petit_Bourg.AF         4  non-null values\n",
        "St_Marie.AF                     4  non-null values\n",
        "Marina.AF                       5  non-null values\n",
        "Capasterre.AF                   5  non-null values\n",
        "END                             5  non-null values\n",
        "dtypes: float64(22), int64(4)"
       ]
      }
     ],
     "prompt_number": 19
    },
    {
     "cell_type": "code",
     "collapsed": false,
     "input": [
      "print df['POS'][1:5]\n",
      "print df['POS'][1:5] + 1\n"
     ],
     "language": "python",
     "metadata": {},
     "outputs": [
      {
       "output_type": "stream",
       "stream": "stdout",
       "text": [
        "1    88301341\n",
        "2    88301347\n",
        "3    88308613\n",
        "4    88308647\n",
        "Name: POS, dtype: int64\n",
        "1    88301342\n",
        "2    88301348\n",
        "3    88308614\n",
        "4    88308648\n",
        "Name: POS, dtype: int64\n"
       ]
      }
     ],
     "prompt_number": 20
    },
    {
     "cell_type": "code",
     "collapsed": false,
     "input": [
      "df[(df['QUAL'] > 500) & (df['QUAL'] < 1000)]"
     ],
     "language": "python",
     "metadata": {},
     "outputs": [
      {
       "html": [
        "<pre>\n",
        "&lt;class 'pandas.core.frame.DataFrame'&gt;\n",
        "Int64Index: 112 entries, 28 to 956\n",
        "Data columns (total 26 columns):\n",
        "CHROM                           112  non-null values\n",
        "POS                             112  non-null values\n",
        "QUAL                            112  non-null values\n",
        "TOTAL_DEPTH                     112  non-null values\n",
        "So_Riviere_Goyaves.AC           112  non-null values\n",
        "N_Goyave.AC                     112  non-null values\n",
        "Plage_de_Viard.AC               112  non-null values\n",
        "Plage_au_Petit_Bourg.AC         112  non-null values\n",
        "St_Marie.AC                     112  non-null values\n",
        "Marina.AC                       112  non-null values\n",
        "Capasterre.AC                   112  non-null values\n",
        "So_Riviere_Goyaves.popsize      112  non-null values\n",
        "N_Goyave.popsize                112  non-null values\n",
        "Plage_de_Viard.popsize          112  non-null values\n",
        "Plage_au_Petit_Bourg.popsize    112  non-null values\n",
        "St_Marie.popsize                112  non-null values\n",
        "Marina.popsize                  112  non-null values\n",
        "Capasterre.popsize              112  non-null values\n",
        "So_Riviere_Goyaves.AF           97  non-null values\n",
        "N_Goyave.AF                     82  non-null values\n",
        "Plage_de_Viard.AF               68  non-null values\n",
        "Plage_au_Petit_Bourg.AF         92  non-null values\n",
        "St_Marie.AF                     95  non-null values\n",
        "Marina.AF                       105  non-null values\n",
        "Capasterre.AF                   112  non-null values\n",
        "END                             112  non-null values\n",
        "dtypes: float64(22), int64(4)\n",
        "</pre>"
       ],
       "metadata": {},
       "output_type": "pyout",
       "prompt_number": 23,
       "text": [
        "<class 'pandas.core.frame.DataFrame'>\n",
        "Int64Index: 112 entries, 28 to 956\n",
        "Data columns (total 26 columns):\n",
        "CHROM                           112  non-null values\n",
        "POS                             112  non-null values\n",
        "QUAL                            112  non-null values\n",
        "TOTAL_DEPTH                     112  non-null values\n",
        "So_Riviere_Goyaves.AC           112  non-null values\n",
        "N_Goyave.AC                     112  non-null values\n",
        "Plage_de_Viard.AC               112  non-null values\n",
        "Plage_au_Petit_Bourg.AC         112  non-null values\n",
        "St_Marie.AC                     112  non-null values\n",
        "Marina.AC                       112  non-null values\n",
        "Capasterre.AC                   112  non-null values\n",
        "So_Riviere_Goyaves.popsize      112  non-null values\n",
        "N_Goyave.popsize                112  non-null values\n",
        "Plage_de_Viard.popsize          112  non-null values\n",
        "Plage_au_Petit_Bourg.popsize    112  non-null values\n",
        "St_Marie.popsize                112  non-null values\n",
        "Marina.popsize                  112  non-null values\n",
        "Capasterre.popsize              112  non-null values\n",
        "So_Riviere_Goyaves.AF           97  non-null values\n",
        "N_Goyave.AF                     82  non-null values\n",
        "Plage_de_Viard.AF               68  non-null values\n",
        "Plage_au_Petit_Bourg.AF         92  non-null values\n",
        "St_Marie.AF                     95  non-null values\n",
        "Marina.AF                       105  non-null values\n",
        "Capasterre.AF                   112  non-null values\n",
        "END                             112  non-null values\n",
        "dtypes: float64(22), int64(4)"
       ]
      }
     ],
     "prompt_number": 23
    },
    {
     "cell_type": "markdown",
     "metadata": {},
     "source": [
      "...and deleted on the fly."
     ]
    },
    {
     "cell_type": "code",
     "collapsed": false,
     "input": [
      "del df['END']\n",
      "df.head()"
     ],
     "language": "python",
     "metadata": {},
     "outputs": [
      {
       "html": [
        "<pre>\n",
        "&lt;class 'pandas.core.frame.DataFrame'&gt;\n",
        "Int64Index: 5 entries, 0 to 4\n",
        "Data columns (total 25 columns):\n",
        "CHROM                           5  non-null values\n",
        "POS                             5  non-null values\n",
        "QUAL                            5  non-null values\n",
        "TOTAL_DEPTH                     5  non-null values\n",
        "So_Riviere_Goyaves.AC           5  non-null values\n",
        "N_Goyave.AC                     5  non-null values\n",
        "Plage_de_Viard.AC               5  non-null values\n",
        "Plage_au_Petit_Bourg.AC         5  non-null values\n",
        "St_Marie.AC                     5  non-null values\n",
        "Marina.AC                       5  non-null values\n",
        "Capasterre.AC                   5  non-null values\n",
        "So_Riviere_Goyaves.popsize      5  non-null values\n",
        "N_Goyave.popsize                5  non-null values\n",
        "Plage_de_Viard.popsize          5  non-null values\n",
        "Plage_au_Petit_Bourg.popsize    5  non-null values\n",
        "St_Marie.popsize                5  non-null values\n",
        "Marina.popsize                  5  non-null values\n",
        "Capasterre.popsize              5  non-null values\n",
        "So_Riviere_Goyaves.AF           5  non-null values\n",
        "N_Goyave.AF                     1  non-null values\n",
        "Plage_de_Viard.AF               1  non-null values\n",
        "Plage_au_Petit_Bourg.AF         4  non-null values\n",
        "St_Marie.AF                     4  non-null values\n",
        "Marina.AF                       5  non-null values\n",
        "Capasterre.AF                   5  non-null values\n",
        "dtypes: float64(22), int64(3)\n",
        "</pre>"
       ],
       "metadata": {},
       "output_type": "pyout",
       "prompt_number": 38,
       "text": [
        "<class 'pandas.core.frame.DataFrame'>\n",
        "Int64Index: 5 entries, 0 to 4\n",
        "Data columns (total 25 columns):\n",
        "CHROM                           5  non-null values\n",
        "POS                             5  non-null values\n",
        "QUAL                            5  non-null values\n",
        "TOTAL_DEPTH                     5  non-null values\n",
        "So_Riviere_Goyaves.AC           5  non-null values\n",
        "N_Goyave.AC                     5  non-null values\n",
        "Plage_de_Viard.AC               5  non-null values\n",
        "Plage_au_Petit_Bourg.AC         5  non-null values\n",
        "St_Marie.AC                     5  non-null values\n",
        "Marina.AC                       5  non-null values\n",
        "Capasterre.AC                   5  non-null values\n",
        "So_Riviere_Goyaves.popsize      5  non-null values\n",
        "N_Goyave.popsize                5  non-null values\n",
        "Plage_de_Viard.popsize          5  non-null values\n",
        "Plage_au_Petit_Bourg.popsize    5  non-null values\n",
        "St_Marie.popsize                5  non-null values\n",
        "Marina.popsize                  5  non-null values\n",
        "Capasterre.popsize              5  non-null values\n",
        "So_Riviere_Goyaves.AF           5  non-null values\n",
        "N_Goyave.AF                     1  non-null values\n",
        "Plage_de_Viard.AF               1  non-null values\n",
        "Plage_au_Petit_Bourg.AF         4  non-null values\n",
        "St_Marie.AF                     4  non-null values\n",
        "Marina.AF                       5  non-null values\n",
        "Capasterre.AF                   5  non-null values\n",
        "dtypes: float64(22), int64(3)"
       ]
      }
     ],
     "prompt_number": 38
    },
    {
     "cell_type": "markdown",
     "metadata": {},
     "source": [
      "Plotting Basics\n",
      "---------------"
     ]
    },
    {
     "cell_type": "markdown",
     "metadata": {},
     "source": [
      "Series and DataFrames have an associated `.plot()` command (uses Matplotlib behind the scenes)."
     ]
    },
    {
     "cell_type": "code",
     "collapsed": false,
     "input": [
      "clf()\n",
      "df[df[\"TOTAL_DEPTH\"] < 2000][\"TOTAL_DEPTH\"].plot()"
     ],
     "language": "python",
     "metadata": {},
     "outputs": [
      {
       "metadata": {},
       "output_type": "pyout",
       "prompt_number": 28,
       "text": [
        "<matplotlib.axes.AxesSubplot at 0x10c28a650>"
       ]
      }
     ],
     "prompt_number": 28
    },
    {
     "cell_type": "code",
     "collapsed": false,
     "input": [
      "clf()\n",
      "plt.plot(df.TOTAL_DEPTH)\n",
      "plt.xticks(df.POS)\n",
      "plt.xlim(min(df.POS), max(df.POS))"
     ],
     "language": "python",
     "metadata": {},
     "outputs": [
      {
       "metadata": {},
       "output_type": "pyout",
       "prompt_number": 56,
       "text": [
        "(88301340, 97993353)"
       ]
      }
     ],
     "prompt_number": 56
    },
    {
     "cell_type": "code",
     "collapsed": false,
     "input": [
      "plt.clf()\n",
      "plt.plot(df.TOTAL_DEPTH, df.QUAL, 'or')\n",
      "plt.xlabel('total depth')\n",
      "plt.ylabel('quality score')"
     ],
     "language": "python",
     "metadata": {},
     "outputs": [
      {
       "metadata": {},
       "output_type": "pyout",
       "prompt_number": 32,
       "text": [
        "<matplotlib.text.Text at 0x10c239450>"
       ]
      }
     ],
     "prompt_number": 32
    },
    {
     "cell_type": "code",
     "collapsed": false,
     "input": [
      "clf()\n",
      "plt.hist(df.TOTAL_DEPTH, bins=50)\n",
      "plt.xlabel('Depth')\n",
      "plt.ylabel('Count')\n"
     ],
     "language": "python",
     "metadata": {},
     "outputs": [
      {
       "metadata": {},
       "output_type": "pyout",
       "prompt_number": 38,
       "text": [
        "<matplotlib.text.Text at 0x110f98cd0>"
       ]
      }
     ],
     "prompt_number": 38
    },
    {
     "cell_type": "code",
     "collapsed": false,
     "input": [
      "for i in x:\n",
      "    "
     ],
     "language": "python",
     "metadata": {},
     "outputs": []
    }
   ],
   "metadata": {}
  }
 ]
}